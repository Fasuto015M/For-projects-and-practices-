{
 "cells": [
  {
   "cell_type": "code",
   "execution_count": 1,
   "id": "34ed19d4",
   "metadata": {},
   "outputs": [
    {
     "name": "stdout",
     "output_type": "stream",
     "text": [
      "/Users/macbookfausto/Desktop/Tareas/Csv prueba\n"
     ]
    }
   ],
   "source": [
    "import os\n",
    "os.chdir('/Users/macbookfausto/Desktop/Tareas/Csv prueba')\n",
    "print(os.getcwd())"
   ]
  },
  {
   "cell_type": "code",
   "execution_count": 2,
   "id": "36cba69f",
   "metadata": {},
   "outputs": [],
   "source": [
    "import pandas as pd\n",
    "import matplotlib.pyplot as plt\n",
    "import numpy as np\n",
    "import seaborn as sns"
   ]
  },
  {
   "cell_type": "code",
   "execution_count": 3,
   "id": "3c1bbbc7",
   "metadata": {},
   "outputs": [
    {
     "data": {
      "text/html": [
       "<div>\n",
       "<style scoped>\n",
       "    .dataframe tbody tr th:only-of-type {\n",
       "        vertical-align: middle;\n",
       "    }\n",
       "\n",
       "    .dataframe tbody tr th {\n",
       "        vertical-align: top;\n",
       "    }\n",
       "\n",
       "    .dataframe thead th {\n",
       "        text-align: right;\n",
       "    }\n",
       "</style>\n",
       "<table border=\"1\" class=\"dataframe\">\n",
       "  <thead>\n",
       "    <tr style=\"text-align: right;\">\n",
       "      <th></th>\n",
       "      <th>ID_Renta</th>\n",
       "      <th>Fecha_Renta</th>\n",
       "      <th>Fecha_Devolución</th>\n",
       "      <th>Ciudad</th>\n",
       "      <th>Estado</th>\n",
       "      <th>Marca</th>\n",
       "      <th>Modelo</th>\n",
       "      <th>Año_Vehículo</th>\n",
       "      <th>Tipo_Vehículo</th>\n",
       "      <th>Precio_Diario</th>\n",
       "      <th>Días_Renta</th>\n",
       "      <th>Monto_Total</th>\n",
       "      <th>Método_Pago</th>\n",
       "      <th>Cliente</th>\n",
       "      <th>Edad_Cliente</th>\n",
       "      <th>Seguro_Contratado</th>\n",
       "      <th>Agencia</th>\n",
       "      <th>Estado_Renta</th>\n",
       "      <th>Satisfacción_Cliente_%</th>\n",
       "    </tr>\n",
       "  </thead>\n",
       "  <tbody>\n",
       "    <tr>\n",
       "      <th>0</th>\n",
       "      <td>1</td>\n",
       "      <td>2012-01-26</td>\n",
       "      <td>2012-02-03</td>\n",
       "      <td>Puebla</td>\n",
       "      <td>Puebla</td>\n",
       "      <td>BMW</td>\n",
       "      <td>Serie 5</td>\n",
       "      <td>2021</td>\n",
       "      <td>Lujo</td>\n",
       "      <td>2279</td>\n",
       "      <td>8</td>\n",
       "      <td>18232</td>\n",
       "      <td>Transferencia</td>\n",
       "      <td>Fernanda López</td>\n",
       "      <td>69</td>\n",
       "      <td>No</td>\n",
       "      <td>RentAuto MX</td>\n",
       "      <td>Finalizada</td>\n",
       "      <td>59</td>\n",
       "    </tr>\n",
       "    <tr>\n",
       "      <th>1</th>\n",
       "      <td>2</td>\n",
       "      <td>2020-04-08</td>\n",
       "      <td>2020-04-22</td>\n",
       "      <td>Guadalajara</td>\n",
       "      <td>Jalisco</td>\n",
       "      <td>Nissan</td>\n",
       "      <td>Altima</td>\n",
       "      <td>2021</td>\n",
       "      <td>Sedan</td>\n",
       "      <td>3768</td>\n",
       "      <td>14</td>\n",
       "      <td>52752</td>\n",
       "      <td>Efectivo</td>\n",
       "      <td>Ana Rodríguez</td>\n",
       "      <td>42</td>\n",
       "      <td>Sí</td>\n",
       "      <td>FlexDrive</td>\n",
       "      <td>En curso</td>\n",
       "      <td>52</td>\n",
       "    </tr>\n",
       "    <tr>\n",
       "      <th>2</th>\n",
       "      <td>3</td>\n",
       "      <td>2024-03-03</td>\n",
       "      <td>2024-03-05</td>\n",
       "      <td>Mérida</td>\n",
       "      <td>Yucatán</td>\n",
       "      <td>Mazda</td>\n",
       "      <td>CX-5</td>\n",
       "      <td>2015</td>\n",
       "      <td>SUV</td>\n",
       "      <td>2200</td>\n",
       "      <td>2</td>\n",
       "      <td>4400</td>\n",
       "      <td>Efectivo</td>\n",
       "      <td>María Gómez</td>\n",
       "      <td>41</td>\n",
       "      <td>Sí</td>\n",
       "      <td>CarMaster</td>\n",
       "      <td>Finalizada</td>\n",
       "      <td>69</td>\n",
       "    </tr>\n",
       "    <tr>\n",
       "      <th>3</th>\n",
       "      <td>4</td>\n",
       "      <td>2018-08-08</td>\n",
       "      <td>2018-08-17</td>\n",
       "      <td>Ciudad de México</td>\n",
       "      <td>CDMX</td>\n",
       "      <td>Ford</td>\n",
       "      <td>Escape</td>\n",
       "      <td>2019</td>\n",
       "      <td>Económico</td>\n",
       "      <td>4921</td>\n",
       "      <td>9</td>\n",
       "      <td>44289</td>\n",
       "      <td>Efectivo</td>\n",
       "      <td>Fernanda López</td>\n",
       "      <td>23</td>\n",
       "      <td>No</td>\n",
       "      <td>FlexDrive</td>\n",
       "      <td>Cancelada</td>\n",
       "      <td>98</td>\n",
       "    </tr>\n",
       "    <tr>\n",
       "      <th>4</th>\n",
       "      <td>5</td>\n",
       "      <td>2018-02-18</td>\n",
       "      <td>2018-02-21</td>\n",
       "      <td>Mérida</td>\n",
       "      <td>Yucatán</td>\n",
       "      <td>Hyundai</td>\n",
       "      <td>Tucson</td>\n",
       "      <td>2013</td>\n",
       "      <td>Pickup</td>\n",
       "      <td>2567</td>\n",
       "      <td>3</td>\n",
       "      <td>7701</td>\n",
       "      <td>App</td>\n",
       "      <td>Juan Pérez</td>\n",
       "      <td>52</td>\n",
       "      <td>No</td>\n",
       "      <td>RentAuto MX</td>\n",
       "      <td>Finalizada</td>\n",
       "      <td>97</td>\n",
       "    </tr>\n",
       "    <tr>\n",
       "      <th>5</th>\n",
       "      <td>6</td>\n",
       "      <td>2013-06-07</td>\n",
       "      <td>2013-06-15</td>\n",
       "      <td>Guadalajara</td>\n",
       "      <td>Jalisco</td>\n",
       "      <td>Ford</td>\n",
       "      <td>Ranger</td>\n",
       "      <td>2025</td>\n",
       "      <td>SUV</td>\n",
       "      <td>2550</td>\n",
       "      <td>8</td>\n",
       "      <td>20400</td>\n",
       "      <td>Transferencia</td>\n",
       "      <td>Laura Díaz</td>\n",
       "      <td>59</td>\n",
       "      <td>Sí</td>\n",
       "      <td>GoAuto</td>\n",
       "      <td>Cancelada</td>\n",
       "      <td>95</td>\n",
       "    </tr>\n",
       "    <tr>\n",
       "      <th>6</th>\n",
       "      <td>7</td>\n",
       "      <td>2018-08-25</td>\n",
       "      <td>2018-09-08</td>\n",
       "      <td>Ciudad de México</td>\n",
       "      <td>CDMX</td>\n",
       "      <td>Chevrolet</td>\n",
       "      <td>Onix</td>\n",
       "      <td>2016</td>\n",
       "      <td>Económico</td>\n",
       "      <td>4435</td>\n",
       "      <td>14</td>\n",
       "      <td>62090</td>\n",
       "      <td>Efectivo</td>\n",
       "      <td>José Hernández</td>\n",
       "      <td>26</td>\n",
       "      <td>Sí</td>\n",
       "      <td>CarMaster</td>\n",
       "      <td>Finalizada</td>\n",
       "      <td>59</td>\n",
       "    </tr>\n",
       "    <tr>\n",
       "      <th>7</th>\n",
       "      <td>8</td>\n",
       "      <td>2015-10-11</td>\n",
       "      <td>2015-10-19</td>\n",
       "      <td>Puebla</td>\n",
       "      <td>Puebla</td>\n",
       "      <td>Ford</td>\n",
       "      <td>Focus</td>\n",
       "      <td>2019</td>\n",
       "      <td>Económico</td>\n",
       "      <td>2575</td>\n",
       "      <td>8</td>\n",
       "      <td>20600</td>\n",
       "      <td>Tarjeta</td>\n",
       "      <td>Claudia Ruiz</td>\n",
       "      <td>22</td>\n",
       "      <td>Sí</td>\n",
       "      <td>DriveNow</td>\n",
       "      <td>Finalizada</td>\n",
       "      <td>72</td>\n",
       "    </tr>\n",
       "    <tr>\n",
       "      <th>8</th>\n",
       "      <td>9</td>\n",
       "      <td>2010-06-05</td>\n",
       "      <td>2010-06-12</td>\n",
       "      <td>Guadalajara</td>\n",
       "      <td>Jalisco</td>\n",
       "      <td>Nissan</td>\n",
       "      <td>Sentra</td>\n",
       "      <td>2013</td>\n",
       "      <td>Económico</td>\n",
       "      <td>1930</td>\n",
       "      <td>7</td>\n",
       "      <td>13510</td>\n",
       "      <td>App</td>\n",
       "      <td>Fernanda López</td>\n",
       "      <td>42</td>\n",
       "      <td>No</td>\n",
       "      <td>FlexDrive</td>\n",
       "      <td>En curso</td>\n",
       "      <td>86</td>\n",
       "    </tr>\n",
       "    <tr>\n",
       "      <th>9</th>\n",
       "      <td>10</td>\n",
       "      <td>2015-04-19</td>\n",
       "      <td>2015-04-25</td>\n",
       "      <td>Guadalajara</td>\n",
       "      <td>Jalisco</td>\n",
       "      <td>Hyundai</td>\n",
       "      <td>Tucson</td>\n",
       "      <td>2017</td>\n",
       "      <td>Lujo</td>\n",
       "      <td>4771</td>\n",
       "      <td>6</td>\n",
       "      <td>28626</td>\n",
       "      <td>Efectivo</td>\n",
       "      <td>Carlos Torres</td>\n",
       "      <td>60</td>\n",
       "      <td>Sí</td>\n",
       "      <td>SpeedCar</td>\n",
       "      <td>En curso</td>\n",
       "      <td>58</td>\n",
       "    </tr>\n",
       "  </tbody>\n",
       "</table>\n",
       "</div>"
      ],
      "text/plain": [
       "   ID_Renta Fecha_Renta Fecha_Devolución            Ciudad   Estado  \\\n",
       "0         1  2012-01-26       2012-02-03            Puebla   Puebla   \n",
       "1         2  2020-04-08       2020-04-22       Guadalajara  Jalisco   \n",
       "2         3  2024-03-03       2024-03-05            Mérida  Yucatán   \n",
       "3         4  2018-08-08       2018-08-17  Ciudad de México     CDMX   \n",
       "4         5  2018-02-18       2018-02-21            Mérida  Yucatán   \n",
       "5         6  2013-06-07       2013-06-15       Guadalajara  Jalisco   \n",
       "6         7  2018-08-25       2018-09-08  Ciudad de México     CDMX   \n",
       "7         8  2015-10-11       2015-10-19            Puebla   Puebla   \n",
       "8         9  2010-06-05       2010-06-12       Guadalajara  Jalisco   \n",
       "9        10  2015-04-19       2015-04-25       Guadalajara  Jalisco   \n",
       "\n",
       "       Marca   Modelo  Año_Vehículo Tipo_Vehículo  Precio_Diario  Días_Renta  \\\n",
       "0        BMW  Serie 5          2021          Lujo           2279           8   \n",
       "1     Nissan   Altima          2021         Sedan           3768          14   \n",
       "2      Mazda     CX-5          2015           SUV           2200           2   \n",
       "3       Ford   Escape          2019     Económico           4921           9   \n",
       "4    Hyundai   Tucson          2013        Pickup           2567           3   \n",
       "5       Ford   Ranger          2025           SUV           2550           8   \n",
       "6  Chevrolet     Onix          2016     Económico           4435          14   \n",
       "7       Ford    Focus          2019     Económico           2575           8   \n",
       "8     Nissan   Sentra          2013     Económico           1930           7   \n",
       "9    Hyundai   Tucson          2017          Lujo           4771           6   \n",
       "\n",
       "   Monto_Total    Método_Pago         Cliente  Edad_Cliente Seguro_Contratado  \\\n",
       "0        18232  Transferencia  Fernanda López            69                No   \n",
       "1        52752       Efectivo   Ana Rodríguez            42                Sí   \n",
       "2         4400       Efectivo     María Gómez            41                Sí   \n",
       "3        44289       Efectivo  Fernanda López            23                No   \n",
       "4         7701            App      Juan Pérez            52                No   \n",
       "5        20400  Transferencia      Laura Díaz            59                Sí   \n",
       "6        62090       Efectivo  José Hernández            26                Sí   \n",
       "7        20600        Tarjeta    Claudia Ruiz            22                Sí   \n",
       "8        13510            App  Fernanda López            42                No   \n",
       "9        28626       Efectivo   Carlos Torres            60                Sí   \n",
       "\n",
       "       Agencia Estado_Renta  Satisfacción_Cliente_%  \n",
       "0  RentAuto MX   Finalizada                      59  \n",
       "1    FlexDrive     En curso                      52  \n",
       "2    CarMaster   Finalizada                      69  \n",
       "3    FlexDrive    Cancelada                      98  \n",
       "4  RentAuto MX   Finalizada                      97  \n",
       "5       GoAuto    Cancelada                      95  \n",
       "6    CarMaster   Finalizada                      59  \n",
       "7     DriveNow   Finalizada                      72  \n",
       "8    FlexDrive     En curso                      86  \n",
       "9     SpeedCar     En curso                      58  "
      ]
     },
     "execution_count": 3,
     "metadata": {},
     "output_type": "execute_result"
    }
   ],
   "source": [
    "df = pd.read_csv('rentas_coches_mexico.csv')\n",
    "df.head(10)"
   ]
  },
  {
   "cell_type": "code",
   "execution_count": 5,
   "id": "01ea8dbd",
   "metadata": {},
   "outputs": [
    {
     "name": "stdout",
     "output_type": "stream",
     "text": [
      "Existen 0 datos nulos \n"
     ]
    }
   ],
   "source": [
    "print('Existen', df.isnull().sum().sum(),'datos nulos ')"
   ]
  },
  {
   "cell_type": "code",
   "execution_count": 7,
   "id": "a736d2af",
   "metadata": {},
   "outputs": [
    {
     "data": {
      "text/plain": [
       "Nissan        60\n",
       "Ford          60\n",
       "Mazda         56\n",
       "Hyundai       54\n",
       "Kia           54\n",
       "Toyota        48\n",
       "BMW           46\n",
       "Volkswagen    46\n",
       "Chevrolet     39\n",
       "Honda         37\n",
       "Name: Marca, dtype: int64"
      ]
     },
     "execution_count": 7,
     "metadata": {},
     "output_type": "execute_result"
    }
   ],
   "source": [
    "#EDA \n",
    "df['Marca'].value_counts()\n"
   ]
  },
  {
   "cell_type": "code",
   "execution_count": 12,
   "id": "2b16e94a",
   "metadata": {},
   "outputs": [
    {
     "data": {
      "text/plain": [
       "Index(['ID_Renta', 'Fecha_Renta', 'Fecha_Devolución', 'Ciudad', 'Estado',\n",
       "       'Marca', 'Modelo', 'Año_Vehículo', 'Tipo_Vehículo', 'Precio_Diario',\n",
       "       'Días_Renta', 'Monto_Total', 'Método_Pago', 'Cliente', 'Edad_Cliente',\n",
       "       'Seguro_Contratado', 'Agencia', 'Estado_Renta',\n",
       "       'Satisfacción_Cliente_%'],\n",
       "      dtype='object')"
      ]
     },
     "execution_count": 12,
     "metadata": {},
     "output_type": "execute_result"
    }
   ],
   "source": [
    "df.columns"
   ]
  },
  {
   "cell_type": "code",
   "execution_count": 13,
   "id": "d832c792",
   "metadata": {},
   "outputs": [
    {
     "data": {
      "text/plain": [
       "2019    43\n",
       "2021    37\n",
       "2016    36\n",
       "2012    35\n",
       "2025    34\n",
       "2022    33\n",
       "2014    33\n",
       "2020    32\n",
       "2010    32\n",
       "2024    30\n",
       "2013    29\n",
       "2018    29\n",
       "2023    28\n",
       "2015    27\n",
       "2011    24\n",
       "2017    18\n",
       "Name: Año_Vehículo, dtype: int64"
      ]
     },
     "execution_count": 13,
     "metadata": {},
     "output_type": "execute_result"
    }
   ],
   "source": [
    "df['Año_Vehículo'].value_counts()"
   ]
  },
  {
   "cell_type": "code",
   "execution_count": 14,
   "id": "894340ec",
   "metadata": {},
   "outputs": [
    {
     "data": {
      "text/plain": [
       "RentaFácil     73\n",
       "GoAuto         71\n",
       "DriveNow       70\n",
       "FlexDrive      65\n",
       "RentAuto MX    64\n",
       "SpeedCar       59\n",
       "CarMaster      50\n",
       "AutoRent       48\n",
       "Name: Agencia, dtype: int64"
      ]
     },
     "execution_count": 14,
     "metadata": {},
     "output_type": "execute_result"
    }
   ],
   "source": [
    "df['Agencia'].value_counts()"
   ]
  },
  {
   "cell_type": "code",
   "execution_count": 44,
   "id": "f548c2c3",
   "metadata": {},
   "outputs": [
    {
     "data": {
      "text/plain": [
       "Método_Pago    Seguro_Contratado\n",
       "Tarjeta        Sí                   9\n",
       "App            No                   6\n",
       "Efectivo       No                   4\n",
       "App            Sí                   3\n",
       "Efectivo       Sí                   3\n",
       "Transferencia  No                   3\n",
       "               Sí                   3\n",
       "Tarjeta        No                   2\n",
       "dtype: int64"
      ]
     },
     "execution_count": 44,
     "metadata": {},
     "output_type": "execute_result"
    }
   ],
   "source": [
    "df_renta_f =df.loc[df['Agencia'] == 'RentaFácil']\n",
    "df_renta_f.loc[df_renta_f['Estado_Renta']=='Cancelada'].sort_values(by='Seguro_Contratado', ascending= False)\n",
    "df_renta_f_Pago = df_renta_f.loc[df_renta_f['Estado_Renta']=='Cancelada'].sort_values(by='Seguro_Contratado', ascending= False)\n",
    "df_renta_f_Pago[['Método_Pago','Seguro_Contratado']].value_counts().sort_values(ascending=False)"
   ]
  },
  {
   "cell_type": "code",
   "execution_count": 47,
   "id": "d940aab2",
   "metadata": {},
   "outputs": [
    {
     "data": {
      "text/plain": [
       "Tarjeta          11\n",
       "App               9\n",
       "Efectivo          7\n",
       "Transferencia     6\n",
       "Name: Método_Pago, dtype: int64"
      ]
     },
     "execution_count": 47,
     "metadata": {},
     "output_type": "execute_result"
    }
   ],
   "source": [
    "df_renta_f_Pago['Método_Pago'].value_counts()"
   ]
  },
  {
   "cell_type": "code",
   "execution_count": 56,
   "id": "cf20d0fd",
   "metadata": {},
   "outputs": [
    {
     "name": "stdout",
     "output_type": "stream",
     "text": [
      "los porcentajes en caso de que contraten seguro y cancelen son los siguientes :  \n",
      " Tarjeta:  81.81818181818183 \n",
      " App:  33.33333333333333 \n",
      " Efectivo:  42.857142857142854 \n",
      " Transferencia:  50.0\n"
     ]
    }
   ],
   "source": [
    "print('los porcentajes en caso de que contraten seguro y cancelen son los siguientes : ','\\n Tarjeta: ',(9/11)*100, '\\n App: ',(3/9)*100, '\\n Efectivo: ',(3/7)*100,  '\\n Transferencia: ', (3/6)*100)"
   ]
  },
  {
   "cell_type": "code",
   "execution_count": 57,
   "id": "1438d7ce",
   "metadata": {},
   "outputs": [
    {
     "data": {
      "text/plain": [
       "Lujo         17\n",
       "Económico    16\n",
       "Sedan        15\n",
       "Pickup       13\n",
       "SUV          12\n",
       "Name: Tipo_Vehículo, dtype: int64"
      ]
     },
     "execution_count": 57,
     "metadata": {},
     "output_type": "execute_result"
    }
   ],
   "source": [
    "df_renta_f['Tipo_Vehículo'].value_counts()"
   ]
  },
  {
   "cell_type": "code",
   "execution_count": 58,
   "id": "906748df",
   "metadata": {},
   "outputs": [
    {
     "data": {
      "text/plain": [
       "73"
      ]
     },
     "execution_count": 58,
     "metadata": {},
     "output_type": "execute_result"
    }
   ],
   "source": [
    "df_renta_f['Tipo_Vehículo'].count()"
   ]
  },
  {
   "cell_type": "code",
   "execution_count": 59,
   "id": "3db9dc1e",
   "metadata": {},
   "outputs": [
    {
     "name": "stdout",
     "output_type": "stream",
     "text": [
      "La probabilidad que contrate y cancelen por tipo de vehiculo:  \n",
      " Lujo:  23.28767123287671 \n",
      " Econo:  21.91780821917808 \n",
      " Seda:   20.54794520547945 \n",
      " Pickup:  17.80821917808219 \n",
      " SUV:  16.43835616438356\n"
     ]
    }
   ],
   "source": [
    "print('La probabilidad que contrate y cancelen por tipo de vehiculo: ', '\\n Lujo: ',(17/73)*100 ,'\\n Econo: ',(16/73)*100, '\\n Seda:  ',(15/73)*100,'\\n Pickup: ',(13/73)*100 ,\n",
    "      '\\n SUV: ',(12/73)*100)"
   ]
  },
  {
   "cell_type": "code",
   "execution_count": 74,
   "id": "952d6e43",
   "metadata": {},
   "outputs": [
    {
     "data": {
      "text/plain": [
       "(33, 19)"
      ]
     },
     "execution_count": 74,
     "metadata": {},
     "output_type": "execute_result"
    }
   ],
   "source": [
    "df_cancelada = df.loc[df['Estado_Renta']== 'Cancelada']\n",
    "df_cancelada_Renta_f = df_cancelada.loc[df['Agencia'] == 'RentaFácil']\n",
    "df_cancelada_Renta_f.shape"
   ]
  },
  {
   "cell_type": "code",
   "execution_count": 75,
   "id": "4432d395",
   "metadata": {},
   "outputs": [
    {
     "data": {
      "text/plain": [
       "(73,)"
      ]
     },
     "execution_count": 75,
     "metadata": {},
     "output_type": "execute_result"
    }
   ],
   "source": [
    "df_REnta_FF = df.loc[df['Agencia'] == 'RentaFácil']\n",
    "df_REnta_FF['Estado_Renta'].shape"
   ]
  },
  {
   "cell_type": "code",
   "execution_count": 76,
   "id": "2b03926b",
   "metadata": {},
   "outputs": [
    {
     "name": "stdout",
     "output_type": "stream",
     "text": [
      "La probabilidad de cancelacion en general es de:  33.0 Mientras que una cancelacion para RENTA FACIL representa el:  45.20547945205479\n"
     ]
    }
   ],
   "source": [
    "print('La probabilidad de cancelacion en general es de: ', (165/500)*100, 'Mientras que una cancelacion para RENTA FACIL representa el: ',(33/73)*100)"
   ]
  },
  {
   "cell_type": "code",
   "execution_count": 77,
   "id": "ea053583",
   "metadata": {},
   "outputs": [
    {
     "data": {
      "text/plain": [
       "Index(['ID_Renta', 'Fecha_Renta', 'Fecha_Devolución', 'Ciudad', 'Estado',\n",
       "       'Marca', 'Modelo', 'Año_Vehículo', 'Tipo_Vehículo', 'Precio_Diario',\n",
       "       'Días_Renta', 'Monto_Total', 'Método_Pago', 'Cliente', 'Edad_Cliente',\n",
       "       'Seguro_Contratado', 'Agencia', 'Estado_Renta',\n",
       "       'Satisfacción_Cliente_%'],\n",
       "      dtype='object')"
      ]
     },
     "execution_count": 77,
     "metadata": {},
     "output_type": "execute_result"
    }
   ],
   "source": [
    "df.columns"
   ]
  },
  {
   "cell_type": "code",
   "execution_count": 82,
   "id": "653561bd",
   "metadata": {},
   "outputs": [
    {
     "data": {
      "image/png": "[encoded data removed]",
      "text/plain": [
       "<Figure size 1000x600 with 1 Axes>"
      ]
     },
     "metadata": {},
     "output_type": "display_data"
    }
   ],
   "source": [
    "#Top 10 de Marcas mas rentadas\n",
    "# Top 10 de Marcas por tipo de renta Economica, Lujo, etc. \n",
    "\n",
    "# Agrupar por país\n",
    "df_grafica = df.groupby('Modelo')['Estado_Renta'].count().sort_values(ascending=False)\n",
    "\n",
    "# Graficar\n",
    "plt.figure(figsize=(10,6))\n",
    "df_grafica.plot(kind='bar', edgecolor='black')\n",
    "\n",
    "plt.title(\"Total de rentas por modelo\")\n",
    "plt.xlabel(\"Modelo\")\n",
    "plt.ylabel(\"Estado de renta\")\n",
    "plt.xticks(rotation=90)\n",
    "plt.show()"
   ]
  },
  {
   "cell_type": "code",
   "execution_count": 84,
   "id": "bcf6855f",
   "metadata": {},
   "outputs": [
    {
     "data": {
      "image/png": "[encoded data removed]",
      "text/plain": [
       "<Figure size 1000x600 with 1 Axes>"
      ]
     },
     "metadata": {},
     "output_type": "display_data"
    }
   ],
   "source": [
    "# Agrupar por país\n",
    "df_grafica = df.groupby('Tipo_Vehículo')['Estado_Renta'].count().sort_values(ascending=False)\n",
    "\n",
    "# Graficar\n",
    "plt.figure(figsize=(10,6))\n",
    "df_grafica.plot(kind='bar', edgecolor='black')\n",
    "\n",
    "plt.title(\"Total de rentas por modelo\")\n",
    "plt.xlabel(\"Modelo\")\n",
    "plt.ylabel(\"Estado de renta\")\n",
    "plt.xticks(rotation=90)\n",
    "plt.show()"
   ]
  },
  {
   "cell_type": "code",
   "execution_count": null,
   "id": "23de6800",
   "metadata": {},
   "outputs": [],
   "source": []
  }
 ],
 "metadata": {
  "kernelspec": {
   "display_name": "base",
   "language": "python",
   "name": "python3"
  },
  "language_info": {
   "codemirror_mode": {
    "name": "ipython",
    "version": 3
   },
   "file_extension": ".py",
   "mimetype": "text/x-python",
   "name": "python",
   "nbconvert_exporter": "python",
   "pygments_lexer": "ipython3",
   "version": "3.11.4"
  }
 },
 "nbformat": 4,
 "nbformat_minor": 5
}
