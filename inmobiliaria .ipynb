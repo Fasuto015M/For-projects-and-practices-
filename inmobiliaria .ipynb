{
 "cells": [
  {
   "cell_type": "code",
   "execution_count": 1,
   "id": "e2d2faf2",
   "metadata": {},
   "outputs": [
    {
     "data": {
      "text/plain": [
       "'/Users/macbookfausto/Desktop/Tareas/Csv prueba'"
      ]
     },
     "execution_count": 1,
     "metadata": {},
     "output_type": "execute_result"
    }
   ],
   "source": [
    "import os\n",
    "os. chdir('/Users/macbookfausto/Desktop/Tareas/Csv prueba')\n",
    "os.getcwd()"
   ]
  },
  {
   "cell_type": "code",
   "execution_count": 2,
   "id": "741104cd",
   "metadata": {},
   "outputs": [],
   "source": [
    "import pandas as pd\n",
    "import numpy as np\n",
    "import matplotlib.pyplot as plt\n",
    "import plotly.express as pl\n"
   ]
  },
  {
   "cell_type": "code",
   "execution_count": 3,
   "id": "321b5fb5",
   "metadata": {},
   "outputs": [
    {
     "data": {
      "text/html": [
       "<div>\n",
       "<style scoped>\n",
       "    .dataframe tbody tr th:only-of-type {\n",
       "        vertical-align: middle;\n",
       "    }\n",
       "\n",
       "    .dataframe tbody tr th {\n",
       "        vertical-align: top;\n",
       "    }\n",
       "\n",
       "    .dataframe thead th {\n",
       "        text-align: right;\n",
       "    }\n",
       "</style>\n",
       "<table border=\"1\" class=\"dataframe\">\n",
       "  <thead>\n",
       "    <tr style=\"text-align: right;\">\n",
       "      <th></th>\n",
       "      <th>ID_Propiedad</th>\n",
       "      <th>Fecha_Venta</th>\n",
       "      <th>Ciudad</th>\n",
       "      <th>Estado</th>\n",
       "      <th>Tipo_Propiedad</th>\n",
       "      <th>Metros_Cuadrados</th>\n",
       "      <th>Habitaciones</th>\n",
       "      <th>Baños</th>\n",
       "      <th>Año_Construcción</th>\n",
       "      <th>Precio_Venta</th>\n",
       "      <th>Agente_Inmobiliario</th>\n",
       "      <th>Comisión_%</th>\n",
       "      <th>Método_Pago</th>\n",
       "      <th>Estado_Venta</th>\n",
       "      <th>Vista_Al_Lago</th>\n",
       "      <th>Estacionamiento</th>\n",
       "      <th>Plusvalía_%_Anual</th>\n",
       "    </tr>\n",
       "  </thead>\n",
       "  <tbody>\n",
       "    <tr>\n",
       "      <th>0</th>\n",
       "      <td>1</td>\n",
       "      <td>2003-05-28</td>\n",
       "      <td>Puebla</td>\n",
       "      <td>Puebla</td>\n",
       "      <td>Terreno</td>\n",
       "      <td>345</td>\n",
       "      <td>3</td>\n",
       "      <td>1</td>\n",
       "      <td>2003</td>\n",
       "      <td>6840299</td>\n",
       "      <td>Fernanda Díaz</td>\n",
       "      <td>5.62</td>\n",
       "      <td>Contado</td>\n",
       "      <td>Cancelada</td>\n",
       "      <td>No</td>\n",
       "      <td>1</td>\n",
       "      <td>5.19</td>\n",
       "    </tr>\n",
       "    <tr>\n",
       "      <th>1</th>\n",
       "      <td>2</td>\n",
       "      <td>2004-05-18</td>\n",
       "      <td>Puebla</td>\n",
       "      <td>Puebla</td>\n",
       "      <td>Departamento</td>\n",
       "      <td>64</td>\n",
       "      <td>6</td>\n",
       "      <td>1</td>\n",
       "      <td>1987</td>\n",
       "      <td>4933899</td>\n",
       "      <td>Pedro Torres</td>\n",
       "      <td>3.01</td>\n",
       "      <td>FOVISSSTE</td>\n",
       "      <td>Vendida</td>\n",
       "      <td>No</td>\n",
       "      <td>1</td>\n",
       "      <td>10.79</td>\n",
       "    </tr>\n",
       "    <tr>\n",
       "      <th>2</th>\n",
       "      <td>3</td>\n",
       "      <td>2009-02-03</td>\n",
       "      <td>Ciudad de México</td>\n",
       "      <td>CDMX</td>\n",
       "      <td>Terreno</td>\n",
       "      <td>104</td>\n",
       "      <td>4</td>\n",
       "      <td>2</td>\n",
       "      <td>1991</td>\n",
       "      <td>1729661</td>\n",
       "      <td>Laura Pérez</td>\n",
       "      <td>2.96</td>\n",
       "      <td>Crédito hipotecario</td>\n",
       "      <td>Cancelada</td>\n",
       "      <td>No</td>\n",
       "      <td>3</td>\n",
       "      <td>9.15</td>\n",
       "    </tr>\n",
       "    <tr>\n",
       "      <th>3</th>\n",
       "      <td>4</td>\n",
       "      <td>2005-12-26</td>\n",
       "      <td>Guadalajara</td>\n",
       "      <td>Jalisco</td>\n",
       "      <td>Terreno</td>\n",
       "      <td>391</td>\n",
       "      <td>3</td>\n",
       "      <td>1</td>\n",
       "      <td>1987</td>\n",
       "      <td>3156706</td>\n",
       "      <td>Sofía Vargas</td>\n",
       "      <td>6.29</td>\n",
       "      <td>FOVISSSTE</td>\n",
       "      <td>En proceso</td>\n",
       "      <td>No</td>\n",
       "      <td>1</td>\n",
       "      <td>9.99</td>\n",
       "    </tr>\n",
       "    <tr>\n",
       "      <th>4</th>\n",
       "      <td>5</td>\n",
       "      <td>2001-07-11</td>\n",
       "      <td>León</td>\n",
       "      <td>Guanajuato</td>\n",
       "      <td>Departamento</td>\n",
       "      <td>131</td>\n",
       "      <td>4</td>\n",
       "      <td>2</td>\n",
       "      <td>1991</td>\n",
       "      <td>6837214</td>\n",
       "      <td>Laura Pérez</td>\n",
       "      <td>4.80</td>\n",
       "      <td>FOVISSSTE</td>\n",
       "      <td>Cancelada</td>\n",
       "      <td>No</td>\n",
       "      <td>2</td>\n",
       "      <td>6.16</td>\n",
       "    </tr>\n",
       "  </tbody>\n",
       "</table>\n",
       "</div>"
      ],
      "text/plain": [
       "   ID_Propiedad Fecha_Venta            Ciudad      Estado Tipo_Propiedad  \\\n",
       "0             1  2003-05-28            Puebla      Puebla        Terreno   \n",
       "1             2  2004-05-18            Puebla      Puebla   Departamento   \n",
       "2             3  2009-02-03  Ciudad de México        CDMX        Terreno   \n",
       "3             4  2005-12-26       Guadalajara     Jalisco        Terreno   \n",
       "4             5  2001-07-11              León  Guanajuato   Departamento   \n",
       "\n",
       "   Metros_Cuadrados  Habitaciones  Baños  Año_Construcción  Precio_Venta  \\\n",
       "0               345             3      1              2003       6840299   \n",
       "1                64             6      1              1987       4933899   \n",
       "2               104             4      2              1991       1729661   \n",
       "3               391             3      1              1987       3156706   \n",
       "4               131             4      2              1991       6837214   \n",
       "\n",
       "  Agente_Inmobiliario  Comisión_%          Método_Pago Estado_Venta  \\\n",
       "0       Fernanda Díaz        5.62              Contado    Cancelada   \n",
       "1        Pedro Torres        3.01            FOVISSSTE      Vendida   \n",
       "2         Laura Pérez        2.96  Crédito hipotecario    Cancelada   \n",
       "3        Sofía Vargas        6.29            FOVISSSTE   En proceso   \n",
       "4         Laura Pérez        4.80            FOVISSSTE    Cancelada   \n",
       "\n",
       "  Vista_Al_Lago  Estacionamiento  Plusvalía_%_Anual  \n",
       "0            No                1               5.19  \n",
       "1            No                1              10.79  \n",
       "2            No                3               9.15  \n",
       "3            No                1               9.99  \n",
       "4            No                2               6.16  "
      ]
     },
     "execution_count": 3,
     "metadata": {},
     "output_type": "execute_result"
    }
   ],
   "source": [
    "df_Inmob = pd.read_csv('ventas_inmobiliarias_mexico.csv')\n",
    "df_Inmob.head(5)"
   ]
  },
  {
   "cell_type": "code",
   "execution_count": 4,
   "id": "15b99a32",
   "metadata": {},
   "outputs": [
    {
     "data": {
      "text/plain": [
       "(500, 17)"
      ]
     },
     "execution_count": 4,
     "metadata": {},
     "output_type": "execute_result"
    }
   ],
   "source": [
    "df_Inmob.shape"
   ]
  },
  {
   "cell_type": "code",
   "execution_count": 5,
   "id": "56b1da07",
   "metadata": {},
   "outputs": [
    {
     "data": {
      "text/html": [
       "<div>\n",
       "<style scoped>\n",
       "    .dataframe tbody tr th:only-of-type {\n",
       "        vertical-align: middle;\n",
       "    }\n",
       "\n",
       "    .dataframe tbody tr th {\n",
       "        vertical-align: top;\n",
       "    }\n",
       "\n",
       "    .dataframe thead th {\n",
       "        text-align: right;\n",
       "    }\n",
       "</style>\n",
       "<table border=\"1\" class=\"dataframe\">\n",
       "  <thead>\n",
       "    <tr style=\"text-align: right;\">\n",
       "      <th></th>\n",
       "      <th>count</th>\n",
       "      <th>mean</th>\n",
       "      <th>std</th>\n",
       "      <th>min</th>\n",
       "      <th>25%</th>\n",
       "      <th>50%</th>\n",
       "      <th>75%</th>\n",
       "      <th>max</th>\n",
       "    </tr>\n",
       "  </thead>\n",
       "  <tbody>\n",
       "    <tr>\n",
       "      <th>ID_Propiedad</th>\n",
       "      <td>500.0</td>\n",
       "      <td>2.505000e+02</td>\n",
       "      <td>1.444818e+02</td>\n",
       "      <td>1.00</td>\n",
       "      <td>1.257500e+02</td>\n",
       "      <td>250.50</td>\n",
       "      <td>3.752500e+02</td>\n",
       "      <td>500.00</td>\n",
       "    </tr>\n",
       "    <tr>\n",
       "      <th>Metros_Cuadrados</th>\n",
       "      <td>500.0</td>\n",
       "      <td>2.768020e+02</td>\n",
       "      <td>1.293353e+02</td>\n",
       "      <td>50.00</td>\n",
       "      <td>1.590000e+02</td>\n",
       "      <td>280.50</td>\n",
       "      <td>3.882500e+02</td>\n",
       "      <td>500.00</td>\n",
       "    </tr>\n",
       "    <tr>\n",
       "      <th>Habitaciones</th>\n",
       "      <td>500.0</td>\n",
       "      <td>3.580000e+00</td>\n",
       "      <td>1.613942e+00</td>\n",
       "      <td>1.00</td>\n",
       "      <td>2.000000e+00</td>\n",
       "      <td>4.00</td>\n",
       "      <td>5.000000e+00</td>\n",
       "      <td>6.00</td>\n",
       "    </tr>\n",
       "    <tr>\n",
       "      <th>Baños</th>\n",
       "      <td>500.0</td>\n",
       "      <td>2.438000e+00</td>\n",
       "      <td>1.095699e+00</td>\n",
       "      <td>1.00</td>\n",
       "      <td>1.000000e+00</td>\n",
       "      <td>2.00</td>\n",
       "      <td>3.000000e+00</td>\n",
       "      <td>4.00</td>\n",
       "    </tr>\n",
       "    <tr>\n",
       "      <th>Año_Construcción</th>\n",
       "      <td>500.0</td>\n",
       "      <td>1.990240e+03</td>\n",
       "      <td>1.282089e+01</td>\n",
       "      <td>1970.00</td>\n",
       "      <td>1.980000e+03</td>\n",
       "      <td>1989.00</td>\n",
       "      <td>1.999000e+03</td>\n",
       "      <td>2024.00</td>\n",
       "    </tr>\n",
       "    <tr>\n",
       "      <th>Precio_Venta</th>\n",
       "      <td>500.0</td>\n",
       "      <td>4.365217e+06</td>\n",
       "      <td>2.201951e+06</td>\n",
       "      <td>414947.00</td>\n",
       "      <td>2.476707e+06</td>\n",
       "      <td>4589455.00</td>\n",
       "      <td>6.306876e+06</td>\n",
       "      <td>7991267.00</td>\n",
       "    </tr>\n",
       "    <tr>\n",
       "      <th>Comisión_%</th>\n",
       "      <td>500.0</td>\n",
       "      <td>4.505700e+00</td>\n",
       "      <td>1.411323e+00</td>\n",
       "      <td>2.00</td>\n",
       "      <td>3.290000e+00</td>\n",
       "      <td>4.45</td>\n",
       "      <td>5.690000e+00</td>\n",
       "      <td>7.00</td>\n",
       "    </tr>\n",
       "    <tr>\n",
       "      <th>Estacionamiento</th>\n",
       "      <td>500.0</td>\n",
       "      <td>1.472000e+00</td>\n",
       "      <td>1.097098e+00</td>\n",
       "      <td>0.00</td>\n",
       "      <td>1.000000e+00</td>\n",
       "      <td>1.00</td>\n",
       "      <td>2.000000e+00</td>\n",
       "      <td>3.00</td>\n",
       "    </tr>\n",
       "    <tr>\n",
       "      <th>Plusvalía_%_Anual</th>\n",
       "      <td>500.0</td>\n",
       "      <td>5.531480e+00</td>\n",
       "      <td>3.740645e+00</td>\n",
       "      <td>-0.97</td>\n",
       "      <td>2.082500e+00</td>\n",
       "      <td>5.42</td>\n",
       "      <td>8.917500e+00</td>\n",
       "      <td>11.98</td>\n",
       "    </tr>\n",
       "  </tbody>\n",
       "</table>\n",
       "</div>"
      ],
      "text/plain": [
       "                   count          mean           std        min           25%  \\\n",
       "ID_Propiedad       500.0  2.505000e+02  1.444818e+02       1.00  1.257500e+02   \n",
       "Metros_Cuadrados   500.0  2.768020e+02  1.293353e+02      50.00  1.590000e+02   \n",
       "Habitaciones       500.0  3.580000e+00  1.613942e+00       1.00  2.000000e+00   \n",
       "Baños              500.0  2.438000e+00  1.095699e+00       1.00  1.000000e+00   \n",
       "Año_Construcción   500.0  1.990240e+03  1.282089e+01    1970.00  1.980000e+03   \n",
       "Precio_Venta       500.0  4.365217e+06  2.201951e+06  414947.00  2.476707e+06   \n",
       "Comisión_%         500.0  4.505700e+00  1.411323e+00       2.00  3.290000e+00   \n",
       "Estacionamiento    500.0  1.472000e+00  1.097098e+00       0.00  1.000000e+00   \n",
       "Plusvalía_%_Anual  500.0  5.531480e+00  3.740645e+00      -0.97  2.082500e+00   \n",
       "\n",
       "                          50%           75%         max  \n",
       "ID_Propiedad           250.50  3.752500e+02      500.00  \n",
       "Metros_Cuadrados       280.50  3.882500e+02      500.00  \n",
       "Habitaciones             4.00  5.000000e+00        6.00  \n",
       "Baños                    2.00  3.000000e+00        4.00  \n",
       "Año_Construcción      1989.00  1.999000e+03     2024.00  \n",
       "Precio_Venta       4589455.00  6.306876e+06  7991267.00  \n",
       "Comisión_%               4.45  5.690000e+00        7.00  \n",
       "Estacionamiento          1.00  2.000000e+00        3.00  \n",
       "Plusvalía_%_Anual        5.42  8.917500e+00       11.98  "
      ]
     },
     "execution_count": 5,
     "metadata": {},
     "output_type": "execute_result"
    }
   ],
   "source": [
    "df_Inmob.describe().T"
   ]
  },
  {
   "cell_type": "code",
   "execution_count": 6,
   "id": "f2035792",
   "metadata": {},
   "outputs": [
    {
     "name": "stdout",
     "output_type": "stream",
     "text": [
      "Los datso nulos encontrados son:  0\n"
     ]
    }
   ],
   "source": [
    "print('Los datso nulos encontrados son: ',df_Inmob.isnull().sum().sum())"
   ]
  },
  {
   "cell_type": "code",
   "execution_count": 7,
   "id": "e070bc02",
   "metadata": {},
   "outputs": [
    {
     "name": "stdout",
     "output_type": "stream",
     "text": [
      "Los datos en promedio de esta lista por propiedad son los siguientes:  Minimo de baños : 2 Habitaciones: 4 El precio mas bajo es de: $414,947 Cuenta con un lugar de estacionamiento\n"
     ]
    }
   ],
   "source": [
    "print('Los datos en promedio de esta lista por propiedad son los siguientes: ', 'Minimo de baños : 2',\n",
    "      'Habitaciones: 4', 'El precio mas bajo es de: $414,947','Cuenta con un lugar de estacionamiento' )"
   ]
  },
  {
   "cell_type": "code",
   "execution_count": 8,
   "id": "08f70020",
   "metadata": {},
   "outputs": [
    {
     "data": {
      "text/plain": [
       "485    7991267\n",
       "345    7986373\n",
       "289    7981795\n",
       "52     7957777\n",
       "101    7954088\n",
       "        ...   \n",
       "426     468706\n",
       "8       458064\n",
       "154     443716\n",
       "322     440510\n",
       "440     414947\n",
       "Name: Precio_Venta, Length: 500, dtype: int64"
      ]
     },
     "execution_count": 8,
     "metadata": {},
     "output_type": "execute_result"
    }
   ],
   "source": [
    "df_Inmob['Precio_Venta'].sort_values(ascending=False)"
   ]
  },
  {
   "cell_type": "code",
   "execution_count": 12,
   "id": "ee3b37a8",
   "metadata": {},
   "outputs": [
    {
     "data": {
      "text/html": [
       "<div>\n",
       "<style scoped>\n",
       "    .dataframe tbody tr th:only-of-type {\n",
       "        vertical-align: middle;\n",
       "    }\n",
       "\n",
       "    .dataframe tbody tr th {\n",
       "        vertical-align: top;\n",
       "    }\n",
       "\n",
       "    .dataframe thead th {\n",
       "        text-align: right;\n",
       "    }\n",
       "</style>\n",
       "<table border=\"1\" class=\"dataframe\">\n",
       "  <thead>\n",
       "    <tr style=\"text-align: right;\">\n",
       "      <th></th>\n",
       "      <th>ID_Propiedad</th>\n",
       "      <th>Fecha_Venta</th>\n",
       "      <th>Ciudad</th>\n",
       "      <th>Estado</th>\n",
       "      <th>Tipo_Propiedad</th>\n",
       "      <th>Metros_Cuadrados</th>\n",
       "      <th>Habitaciones</th>\n",
       "      <th>Baños</th>\n",
       "      <th>Año_Construcción</th>\n",
       "      <th>Precio_Venta</th>\n",
       "      <th>Agente_Inmobiliario</th>\n",
       "      <th>Comisión_%</th>\n",
       "      <th>Método_Pago</th>\n",
       "      <th>Estado_Venta</th>\n",
       "      <th>Vista_Al_Lago</th>\n",
       "      <th>Estacionamiento</th>\n",
       "      <th>Plusvalía_%_Anual</th>\n",
       "    </tr>\n",
       "  </thead>\n",
       "  <tbody>\n",
       "    <tr>\n",
       "      <th>485</th>\n",
       "      <td>486</td>\n",
       "      <td>2003-05-13</td>\n",
       "      <td>Guadalajara</td>\n",
       "      <td>Jalisco</td>\n",
       "      <td>Departamento</td>\n",
       "      <td>215</td>\n",
       "      <td>3</td>\n",
       "      <td>4</td>\n",
       "      <td>1975</td>\n",
       "      <td>7991267</td>\n",
       "      <td>Sofía Vargas</td>\n",
       "      <td>2.73</td>\n",
       "      <td>Crédito hipotecario</td>\n",
       "      <td>En proceso</td>\n",
       "      <td>No</td>\n",
       "      <td>0</td>\n",
       "      <td>7.67</td>\n",
       "    </tr>\n",
       "    <tr>\n",
       "      <th>345</th>\n",
       "      <td>346</td>\n",
       "      <td>2016-05-20</td>\n",
       "      <td>Tijuana</td>\n",
       "      <td>Baja California</td>\n",
       "      <td>Terreno</td>\n",
       "      <td>227</td>\n",
       "      <td>2</td>\n",
       "      <td>1</td>\n",
       "      <td>1976</td>\n",
       "      <td>7986373</td>\n",
       "      <td>Fernanda Díaz</td>\n",
       "      <td>3.87</td>\n",
       "      <td>FOVISSSTE</td>\n",
       "      <td>Cancelada</td>\n",
       "      <td>Sí</td>\n",
       "      <td>1</td>\n",
       "      <td>1.48</td>\n",
       "    </tr>\n",
       "    <tr>\n",
       "      <th>289</th>\n",
       "      <td>290</td>\n",
       "      <td>2002-04-06</td>\n",
       "      <td>Monterrey</td>\n",
       "      <td>Nuevo León</td>\n",
       "      <td>Oficina</td>\n",
       "      <td>121</td>\n",
       "      <td>6</td>\n",
       "      <td>1</td>\n",
       "      <td>1986</td>\n",
       "      <td>7981795</td>\n",
       "      <td>María López</td>\n",
       "      <td>6.90</td>\n",
       "      <td>Crédito hipotecario</td>\n",
       "      <td>Cancelada</td>\n",
       "      <td>No</td>\n",
       "      <td>1</td>\n",
       "      <td>0.26</td>\n",
       "    </tr>\n",
       "    <tr>\n",
       "      <th>52</th>\n",
       "      <td>53</td>\n",
       "      <td>2010-04-26</td>\n",
       "      <td>Querétaro</td>\n",
       "      <td>Querétaro</td>\n",
       "      <td>Casa</td>\n",
       "      <td>429</td>\n",
       "      <td>1</td>\n",
       "      <td>4</td>\n",
       "      <td>1973</td>\n",
       "      <td>7957777</td>\n",
       "      <td>José Martínez</td>\n",
       "      <td>6.02</td>\n",
       "      <td>FOVISSSTE</td>\n",
       "      <td>Vendida</td>\n",
       "      <td>No</td>\n",
       "      <td>0</td>\n",
       "      <td>9.62</td>\n",
       "    </tr>\n",
       "    <tr>\n",
       "      <th>101</th>\n",
       "      <td>102</td>\n",
       "      <td>2010-05-18</td>\n",
       "      <td>Tijuana</td>\n",
       "      <td>Baja California</td>\n",
       "      <td>Terreno</td>\n",
       "      <td>116</td>\n",
       "      <td>3</td>\n",
       "      <td>1</td>\n",
       "      <td>1974</td>\n",
       "      <td>7954088</td>\n",
       "      <td>María López</td>\n",
       "      <td>5.25</td>\n",
       "      <td>FOVISSSTE</td>\n",
       "      <td>Vendida</td>\n",
       "      <td>No</td>\n",
       "      <td>2</td>\n",
       "      <td>6.13</td>\n",
       "    </tr>\n",
       "    <tr>\n",
       "      <th>136</th>\n",
       "      <td>137</td>\n",
       "      <td>2002-11-16</td>\n",
       "      <td>Monterrey</td>\n",
       "      <td>Nuevo León</td>\n",
       "      <td>Local</td>\n",
       "      <td>495</td>\n",
       "      <td>2</td>\n",
       "      <td>3</td>\n",
       "      <td>1971</td>\n",
       "      <td>7951055</td>\n",
       "      <td>José Martínez</td>\n",
       "      <td>3.17</td>\n",
       "      <td>Crédito hipotecario</td>\n",
       "      <td>En proceso</td>\n",
       "      <td>Sí</td>\n",
       "      <td>3</td>\n",
       "      <td>5.76</td>\n",
       "    </tr>\n",
       "    <tr>\n",
       "      <th>13</th>\n",
       "      <td>14</td>\n",
       "      <td>2014-12-12</td>\n",
       "      <td>León</td>\n",
       "      <td>Guanajuato</td>\n",
       "      <td>Departamento</td>\n",
       "      <td>412</td>\n",
       "      <td>6</td>\n",
       "      <td>4</td>\n",
       "      <td>1977</td>\n",
       "      <td>7937678</td>\n",
       "      <td>María López</td>\n",
       "      <td>4.37</td>\n",
       "      <td>Contado</td>\n",
       "      <td>Cancelada</td>\n",
       "      <td>No</td>\n",
       "      <td>3</td>\n",
       "      <td>10.02</td>\n",
       "    </tr>\n",
       "    <tr>\n",
       "      <th>227</th>\n",
       "      <td>228</td>\n",
       "      <td>2018-03-21</td>\n",
       "      <td>Mérida</td>\n",
       "      <td>Yucatán</td>\n",
       "      <td>Terreno</td>\n",
       "      <td>359</td>\n",
       "      <td>6</td>\n",
       "      <td>4</td>\n",
       "      <td>1978</td>\n",
       "      <td>7924549</td>\n",
       "      <td>José Martínez</td>\n",
       "      <td>6.23</td>\n",
       "      <td>Crédito hipotecario</td>\n",
       "      <td>Vendida</td>\n",
       "      <td>No</td>\n",
       "      <td>0</td>\n",
       "      <td>0.81</td>\n",
       "    </tr>\n",
       "    <tr>\n",
       "      <th>217</th>\n",
       "      <td>218</td>\n",
       "      <td>2023-04-11</td>\n",
       "      <td>León</td>\n",
       "      <td>Guanajuato</td>\n",
       "      <td>Departamento</td>\n",
       "      <td>163</td>\n",
       "      <td>3</td>\n",
       "      <td>1</td>\n",
       "      <td>1978</td>\n",
       "      <td>7895401</td>\n",
       "      <td>Pedro Torres</td>\n",
       "      <td>4.27</td>\n",
       "      <td>INFONAVIT</td>\n",
       "      <td>Cancelada</td>\n",
       "      <td>No</td>\n",
       "      <td>1</td>\n",
       "      <td>9.58</td>\n",
       "    </tr>\n",
       "    <tr>\n",
       "      <th>439</th>\n",
       "      <td>440</td>\n",
       "      <td>2006-04-17</td>\n",
       "      <td>Cancún</td>\n",
       "      <td>Quintana Roo</td>\n",
       "      <td>Local</td>\n",
       "      <td>483</td>\n",
       "      <td>3</td>\n",
       "      <td>3</td>\n",
       "      <td>1990</td>\n",
       "      <td>7872925</td>\n",
       "      <td>Pedro Torres</td>\n",
       "      <td>5.84</td>\n",
       "      <td>Crédito hipotecario</td>\n",
       "      <td>En proceso</td>\n",
       "      <td>No</td>\n",
       "      <td>2</td>\n",
       "      <td>0.44</td>\n",
       "    </tr>\n",
       "    <tr>\n",
       "      <th>11</th>\n",
       "      <td>12</td>\n",
       "      <td>2000-11-15</td>\n",
       "      <td>Cancún</td>\n",
       "      <td>Quintana Roo</td>\n",
       "      <td>Local</td>\n",
       "      <td>492</td>\n",
       "      <td>1</td>\n",
       "      <td>3</td>\n",
       "      <td>1988</td>\n",
       "      <td>7859228</td>\n",
       "      <td>Fernanda Díaz</td>\n",
       "      <td>3.22</td>\n",
       "      <td>FOVISSSTE</td>\n",
       "      <td>En proceso</td>\n",
       "      <td>No</td>\n",
       "      <td>0</td>\n",
       "      <td>10.27</td>\n",
       "    </tr>\n",
       "  </tbody>\n",
       "</table>\n",
       "</div>"
      ],
      "text/plain": [
       "     ID_Propiedad Fecha_Venta       Ciudad           Estado Tipo_Propiedad  \\\n",
       "485           486  2003-05-13  Guadalajara          Jalisco   Departamento   \n",
       "345           346  2016-05-20      Tijuana  Baja California        Terreno   \n",
       "289           290  2002-04-06    Monterrey       Nuevo León        Oficina   \n",
       "52             53  2010-04-26    Querétaro        Querétaro           Casa   \n",
       "101           102  2010-05-18      Tijuana  Baja California        Terreno   \n",
       "136           137  2002-11-16    Monterrey       Nuevo León          Local   \n",
       "13             14  2014-12-12         León       Guanajuato   Departamento   \n",
       "227           228  2018-03-21       Mérida          Yucatán        Terreno   \n",
       "217           218  2023-04-11         León       Guanajuato   Departamento   \n",
       "439           440  2006-04-17       Cancún     Quintana Roo          Local   \n",
       "11             12  2000-11-15       Cancún     Quintana Roo          Local   \n",
       "\n",
       "     Metros_Cuadrados  Habitaciones  Baños  Año_Construcción  Precio_Venta  \\\n",
       "485               215             3      4              1975       7991267   \n",
       "345               227             2      1              1976       7986373   \n",
       "289               121             6      1              1986       7981795   \n",
       "52                429             1      4              1973       7957777   \n",
       "101               116             3      1              1974       7954088   \n",
       "136               495             2      3              1971       7951055   \n",
       "13                412             6      4              1977       7937678   \n",
       "227               359             6      4              1978       7924549   \n",
       "217               163             3      1              1978       7895401   \n",
       "439               483             3      3              1990       7872925   \n",
       "11                492             1      3              1988       7859228   \n",
       "\n",
       "    Agente_Inmobiliario  Comisión_%          Método_Pago Estado_Venta  \\\n",
       "485        Sofía Vargas        2.73  Crédito hipotecario   En proceso   \n",
       "345       Fernanda Díaz        3.87            FOVISSSTE    Cancelada   \n",
       "289         María López        6.90  Crédito hipotecario    Cancelada   \n",
       "52        José Martínez        6.02            FOVISSSTE      Vendida   \n",
       "101         María López        5.25            FOVISSSTE      Vendida   \n",
       "136       José Martínez        3.17  Crédito hipotecario   En proceso   \n",
       "13          María López        4.37              Contado    Cancelada   \n",
       "227       José Martínez        6.23  Crédito hipotecario      Vendida   \n",
       "217        Pedro Torres        4.27            INFONAVIT    Cancelada   \n",
       "439        Pedro Torres        5.84  Crédito hipotecario   En proceso   \n",
       "11        Fernanda Díaz        3.22            FOVISSSTE   En proceso   \n",
       "\n",
       "    Vista_Al_Lago  Estacionamiento  Plusvalía_%_Anual  \n",
       "485            No                0               7.67  \n",
       "345            Sí                1               1.48  \n",
       "289            No                1               0.26  \n",
       "52             No                0               9.62  \n",
       "101            No                2               6.13  \n",
       "136            Sí                3               5.76  \n",
       "13             No                3              10.02  \n",
       "227            No                0               0.81  \n",
       "217            No                1               9.58  \n",
       "439            No                2               0.44  \n",
       "11             No                0              10.27  "
      ]
     },
     "execution_count": 12,
     "metadata": {},
     "output_type": "execute_result"
    }
   ],
   "source": [
    "#Propiedad mas cara en el mercado.\n",
    "\n",
    "df_mascaro = df_Inmob.loc[df_Inmob['Precio_Venta'] <= 7991267].sort_values( by='Precio_Venta', ascending=False)[:11]\n",
    "df_mascaro"
   ]
  },
  {
   "cell_type": "code",
   "execution_count": 23,
   "id": "706f4a4d",
   "metadata": {},
   "outputs": [
    {
     "data": {
      "text/plain": [
       "64     11.98\n",
       "228    11.89\n",
       "84     11.88\n",
       "151    11.81\n",
       "214    11.80\n",
       "       ...  \n",
       "63     -0.88\n",
       "263    -0.88\n",
       "223    -0.89\n",
       "368    -0.93\n",
       "72     -0.97\n",
       "Name: Plusvalía_%_Anual, Length: 500, dtype: float64"
      ]
     },
     "execution_count": 23,
     "metadata": {},
     "output_type": "execute_result"
    }
   ],
   "source": [
    "df_Inmob['Plusvalía_%_Anual'].sort_values(ascending= False)"
   ]
  },
  {
   "cell_type": "code",
   "execution_count": 13,
   "id": "f6d3e347",
   "metadata": {},
   "outputs": [
    {
     "data": {
      "text/html": [
       "<div>\n",
       "<style scoped>\n",
       "    .dataframe tbody tr th:only-of-type {\n",
       "        vertical-align: middle;\n",
       "    }\n",
       "\n",
       "    .dataframe tbody tr th {\n",
       "        vertical-align: top;\n",
       "    }\n",
       "\n",
       "    .dataframe thead th {\n",
       "        text-align: right;\n",
       "    }\n",
       "</style>\n",
       "<table border=\"1\" class=\"dataframe\">\n",
       "  <thead>\n",
       "    <tr style=\"text-align: right;\">\n",
       "      <th></th>\n",
       "      <th>ID_Propiedad</th>\n",
       "      <th>Fecha_Venta</th>\n",
       "      <th>Ciudad</th>\n",
       "      <th>Estado</th>\n",
       "      <th>Tipo_Propiedad</th>\n",
       "      <th>Metros_Cuadrados</th>\n",
       "      <th>Habitaciones</th>\n",
       "      <th>Baños</th>\n",
       "      <th>Año_Construcción</th>\n",
       "      <th>Precio_Venta</th>\n",
       "      <th>Agente_Inmobiliario</th>\n",
       "      <th>Comisión_%</th>\n",
       "      <th>Método_Pago</th>\n",
       "      <th>Estado_Venta</th>\n",
       "      <th>Vista_Al_Lago</th>\n",
       "      <th>Estacionamiento</th>\n",
       "      <th>Plusvalía_%_Anual</th>\n",
       "    </tr>\n",
       "  </thead>\n",
       "  <tbody>\n",
       "    <tr>\n",
       "      <th>228</th>\n",
       "      <td>229</td>\n",
       "      <td>2010-08-14</td>\n",
       "      <td>Tijuana</td>\n",
       "      <td>Baja California</td>\n",
       "      <td>Local</td>\n",
       "      <td>325</td>\n",
       "      <td>6</td>\n",
       "      <td>4</td>\n",
       "      <td>2004</td>\n",
       "      <td>1709417</td>\n",
       "      <td>Luis Hernández</td>\n",
       "      <td>5.12</td>\n",
       "      <td>FOVISSSTE</td>\n",
       "      <td>Vendida</td>\n",
       "      <td>No</td>\n",
       "      <td>1</td>\n",
       "      <td>11.89</td>\n",
       "    </tr>\n",
       "    <tr>\n",
       "      <th>84</th>\n",
       "      <td>85</td>\n",
       "      <td>2007-05-18</td>\n",
       "      <td>León</td>\n",
       "      <td>Guanajuato</td>\n",
       "      <td>Departamento</td>\n",
       "      <td>240</td>\n",
       "      <td>5</td>\n",
       "      <td>2</td>\n",
       "      <td>1974</td>\n",
       "      <td>6031585</td>\n",
       "      <td>Fernanda Díaz</td>\n",
       "      <td>2.72</td>\n",
       "      <td>INFONAVIT</td>\n",
       "      <td>Vendida</td>\n",
       "      <td>Sí</td>\n",
       "      <td>3</td>\n",
       "      <td>11.88</td>\n",
       "    </tr>\n",
       "    <tr>\n",
       "      <th>151</th>\n",
       "      <td>152</td>\n",
       "      <td>2021-07-13</td>\n",
       "      <td>Querétaro</td>\n",
       "      <td>Querétaro</td>\n",
       "      <td>Casa</td>\n",
       "      <td>51</td>\n",
       "      <td>4</td>\n",
       "      <td>3</td>\n",
       "      <td>2016</td>\n",
       "      <td>3701231</td>\n",
       "      <td>Carlos Gómez</td>\n",
       "      <td>6.58</td>\n",
       "      <td>Crédito hipotecario</td>\n",
       "      <td>En proceso</td>\n",
       "      <td>No</td>\n",
       "      <td>2</td>\n",
       "      <td>11.81</td>\n",
       "    </tr>\n",
       "    <tr>\n",
       "      <th>214</th>\n",
       "      <td>215</td>\n",
       "      <td>2023-01-21</td>\n",
       "      <td>Mérida</td>\n",
       "      <td>Yucatán</td>\n",
       "      <td>Terreno</td>\n",
       "      <td>354</td>\n",
       "      <td>1</td>\n",
       "      <td>2</td>\n",
       "      <td>1986</td>\n",
       "      <td>3014929</td>\n",
       "      <td>Daniel García</td>\n",
       "      <td>2.34</td>\n",
       "      <td>INFONAVIT</td>\n",
       "      <td>Cancelada</td>\n",
       "      <td>No</td>\n",
       "      <td>2</td>\n",
       "      <td>11.80</td>\n",
       "    </tr>\n",
       "    <tr>\n",
       "      <th>28</th>\n",
       "      <td>29</td>\n",
       "      <td>2012-03-26</td>\n",
       "      <td>Ciudad de México</td>\n",
       "      <td>CDMX</td>\n",
       "      <td>Departamento</td>\n",
       "      <td>420</td>\n",
       "      <td>6</td>\n",
       "      <td>2</td>\n",
       "      <td>1978</td>\n",
       "      <td>990330</td>\n",
       "      <td>Daniel García</td>\n",
       "      <td>5.96</td>\n",
       "      <td>FOVISSSTE</td>\n",
       "      <td>Cancelada</td>\n",
       "      <td>No</td>\n",
       "      <td>0</td>\n",
       "      <td>11.78</td>\n",
       "    </tr>\n",
       "    <tr>\n",
       "      <th>403</th>\n",
       "      <td>404</td>\n",
       "      <td>2006-09-26</td>\n",
       "      <td>Cancún</td>\n",
       "      <td>Quintana Roo</td>\n",
       "      <td>Departamento</td>\n",
       "      <td>307</td>\n",
       "      <td>5</td>\n",
       "      <td>2</td>\n",
       "      <td>1997</td>\n",
       "      <td>2516118</td>\n",
       "      <td>Sofía Vargas</td>\n",
       "      <td>6.84</td>\n",
       "      <td>Contado</td>\n",
       "      <td>Cancelada</td>\n",
       "      <td>Sí</td>\n",
       "      <td>3</td>\n",
       "      <td>11.76</td>\n",
       "    </tr>\n",
       "    <tr>\n",
       "      <th>216</th>\n",
       "      <td>217</td>\n",
       "      <td>2000-08-02</td>\n",
       "      <td>Puebla</td>\n",
       "      <td>Puebla</td>\n",
       "      <td>Departamento</td>\n",
       "      <td>443</td>\n",
       "      <td>2</td>\n",
       "      <td>1</td>\n",
       "      <td>1996</td>\n",
       "      <td>5131412</td>\n",
       "      <td>Ana Rodríguez</td>\n",
       "      <td>2.04</td>\n",
       "      <td>INFONAVIT</td>\n",
       "      <td>En proceso</td>\n",
       "      <td>Sí</td>\n",
       "      <td>1</td>\n",
       "      <td>11.73</td>\n",
       "    </tr>\n",
       "    <tr>\n",
       "      <th>291</th>\n",
       "      <td>292</td>\n",
       "      <td>2010-10-04</td>\n",
       "      <td>Tijuana</td>\n",
       "      <td>Baja California</td>\n",
       "      <td>Casa</td>\n",
       "      <td>146</td>\n",
       "      <td>4</td>\n",
       "      <td>4</td>\n",
       "      <td>2009</td>\n",
       "      <td>925512</td>\n",
       "      <td>Luis Hernández</td>\n",
       "      <td>2.74</td>\n",
       "      <td>Contado</td>\n",
       "      <td>Cancelada</td>\n",
       "      <td>Sí</td>\n",
       "      <td>2</td>\n",
       "      <td>11.70</td>\n",
       "    </tr>\n",
       "    <tr>\n",
       "      <th>180</th>\n",
       "      <td>181</td>\n",
       "      <td>2006-02-11</td>\n",
       "      <td>Ciudad de México</td>\n",
       "      <td>CDMX</td>\n",
       "      <td>Local</td>\n",
       "      <td>418</td>\n",
       "      <td>1</td>\n",
       "      <td>2</td>\n",
       "      <td>1984</td>\n",
       "      <td>2966768</td>\n",
       "      <td>Ana Rodríguez</td>\n",
       "      <td>5.69</td>\n",
       "      <td>INFONAVIT</td>\n",
       "      <td>En proceso</td>\n",
       "      <td>No</td>\n",
       "      <td>0</td>\n",
       "      <td>11.70</td>\n",
       "    </tr>\n",
       "    <tr>\n",
       "      <th>460</th>\n",
       "      <td>461</td>\n",
       "      <td>2012-06-16</td>\n",
       "      <td>Chihuahua</td>\n",
       "      <td>Chihuahua</td>\n",
       "      <td>Casa</td>\n",
       "      <td>317</td>\n",
       "      <td>6</td>\n",
       "      <td>1</td>\n",
       "      <td>1998</td>\n",
       "      <td>2431446</td>\n",
       "      <td>Laura Pérez</td>\n",
       "      <td>6.34</td>\n",
       "      <td>FOVISSSTE</td>\n",
       "      <td>Cancelada</td>\n",
       "      <td>Sí</td>\n",
       "      <td>2</td>\n",
       "      <td>11.70</td>\n",
       "    </tr>\n",
       "    <tr>\n",
       "      <th>137</th>\n",
       "      <td>138</td>\n",
       "      <td>2007-10-19</td>\n",
       "      <td>Cancún</td>\n",
       "      <td>Quintana Roo</td>\n",
       "      <td>Terreno</td>\n",
       "      <td>238</td>\n",
       "      <td>6</td>\n",
       "      <td>1</td>\n",
       "      <td>1995</td>\n",
       "      <td>6801183</td>\n",
       "      <td>Pedro Torres</td>\n",
       "      <td>6.94</td>\n",
       "      <td>Crédito hipotecario</td>\n",
       "      <td>Vendida</td>\n",
       "      <td>No</td>\n",
       "      <td>3</td>\n",
       "      <td>11.68</td>\n",
       "    </tr>\n",
       "  </tbody>\n",
       "</table>\n",
       "</div>"
      ],
      "text/plain": [
       "     ID_Propiedad Fecha_Venta            Ciudad           Estado  \\\n",
       "228           229  2010-08-14           Tijuana  Baja California   \n",
       "84             85  2007-05-18              León       Guanajuato   \n",
       "151           152  2021-07-13         Querétaro        Querétaro   \n",
       "214           215  2023-01-21            Mérida          Yucatán   \n",
       "28             29  2012-03-26  Ciudad de México             CDMX   \n",
       "403           404  2006-09-26            Cancún     Quintana Roo   \n",
       "216           217  2000-08-02            Puebla           Puebla   \n",
       "291           292  2010-10-04           Tijuana  Baja California   \n",
       "180           181  2006-02-11  Ciudad de México             CDMX   \n",
       "460           461  2012-06-16         Chihuahua        Chihuahua   \n",
       "137           138  2007-10-19            Cancún     Quintana Roo   \n",
       "\n",
       "    Tipo_Propiedad  Metros_Cuadrados  Habitaciones  Baños  Año_Construcción  \\\n",
       "228          Local               325             6      4              2004   \n",
       "84    Departamento               240             5      2              1974   \n",
       "151           Casa                51             4      3              2016   \n",
       "214        Terreno               354             1      2              1986   \n",
       "28    Departamento               420             6      2              1978   \n",
       "403   Departamento               307             5      2              1997   \n",
       "216   Departamento               443             2      1              1996   \n",
       "291           Casa               146             4      4              2009   \n",
       "180          Local               418             1      2              1984   \n",
       "460           Casa               317             6      1              1998   \n",
       "137        Terreno               238             6      1              1995   \n",
       "\n",
       "     Precio_Venta Agente_Inmobiliario  Comisión_%          Método_Pago  \\\n",
       "228       1709417      Luis Hernández        5.12            FOVISSSTE   \n",
       "84        6031585       Fernanda Díaz        2.72            INFONAVIT   \n",
       "151       3701231        Carlos Gómez        6.58  Crédito hipotecario   \n",
       "214       3014929       Daniel García        2.34            INFONAVIT   \n",
       "28         990330       Daniel García        5.96            FOVISSSTE   \n",
       "403       2516118        Sofía Vargas        6.84              Contado   \n",
       "216       5131412       Ana Rodríguez        2.04            INFONAVIT   \n",
       "291        925512      Luis Hernández        2.74              Contado   \n",
       "180       2966768       Ana Rodríguez        5.69            INFONAVIT   \n",
       "460       2431446         Laura Pérez        6.34            FOVISSSTE   \n",
       "137       6801183        Pedro Torres        6.94  Crédito hipotecario   \n",
       "\n",
       "    Estado_Venta Vista_Al_Lago  Estacionamiento  Plusvalía_%_Anual  \n",
       "228      Vendida            No                1              11.89  \n",
       "84       Vendida            Sí                3              11.88  \n",
       "151   En proceso            No                2              11.81  \n",
       "214    Cancelada            No                2              11.80  \n",
       "28     Cancelada            No                0              11.78  \n",
       "403    Cancelada            Sí                3              11.76  \n",
       "216   En proceso            Sí                1              11.73  \n",
       "291    Cancelada            Sí                2              11.70  \n",
       "180   En proceso            No                0              11.70  \n",
       "460    Cancelada            Sí                2              11.70  \n",
       "137      Vendida            No                3              11.68  "
      ]
     },
     "execution_count": 13,
     "metadata": {},
     "output_type": "execute_result"
    }
   ],
   "source": [
    "#Propiedad con mayor plusvalia \n",
    "df_mayorvalor = df_Inmob.loc[df_Inmob['Plusvalía_%_Anual'] < 11.98].sort_values( by='Plusvalía_%_Anual', ascending=False)[:11]\n",
    "df_mayorvalor"
   ]
  },
  {
   "cell_type": "code",
   "execution_count": 24,
   "id": "8eafbab4",
   "metadata": {},
   "outputs": [
    {
     "data": {
      "application/vnd.plotly.v1+json": {
       "config": {
        "plotlyServerURL": "https://plot.ly"
       },
       "data": [
        {
         "alignmentgroup": "True",
         "hovertemplate": "Ciudad=Tijuana<br>Estado_Venta=%{x}<br>Plusvalía_%_Anual=%{text}<extra></extra>",
         "legendgroup": "Tijuana",
         "marker": {
          "color": "#636efa",
          "pattern": {
           "shape": ""
          }
         },
         "name": "Tijuana",
         "offsetgroup": "Tijuana",
         "orientation": "v",
         "showlegend": true,
         "text": [
          11.89,
          11.7
         ],
         "textposition": "auto",
         "type": "bar",
         "x": [
          "Vendida",
          "Cancelada"
         ],
         "xaxis": "x",
         "y": [
          11.89,
          11.7
         ],
         "yaxis": "y"
        },
        {
         "alignmentgroup": "True",
         "hovertemplate": "Ciudad=León<br>Estado_Venta=%{x}<br>Plusvalía_%_Anual=%{text}<extra></extra>",
         "legendgroup": "León",
         "marker": {
          "color": "#EF553B",
          "pattern": {
           "shape": ""
          }
         },
         "name": "León",
         "offsetgroup": "León",
         "orientation": "v",
         "showlegend": true,
         "text": [
          11.88
         ],
         "textposition": "auto",
         "type": "bar",
         "x": [
          "Vendida"
         ],
         "xaxis": "x",
         "y": [
          11.88
         ],
         "yaxis": "y"
        },
        {
         "alignmentgroup": "True",
         "hovertemplate": "Ciudad=Querétaro<br>Estado_Venta=%{x}<br>Plusvalía_%_Anual=%{text}<extra></extra>",
         "legendgroup": "Querétaro",
         "marker": {
          "color": "#00cc96",
          "pattern": {
           "shape": ""
          }
         },
         "name": "Querétaro",
         "offsetgroup": "Querétaro",
         "orientation": "v",
         "showlegend": true,
         "text": [
          11.81
         ],
         "textposition": "auto",
         "type": "bar",
         "x": [
          "En proceso"
         ],
         "xaxis": "x",
         "y": [
          11.81
         ],
         "yaxis": "y"
        },
        {
         "alignmentgroup": "True",
         "hovertemplate": "Ciudad=Mérida<br>Estado_Venta=%{x}<br>Plusvalía_%_Anual=%{text}<extra></extra>",
         "legendgroup": "Mérida",
         "marker": {
          "color": "#ab63fa",
          "pattern": {
           "shape": ""
          }
         },
         "name": "Mérida",
         "offsetgroup": "Mérida",
         "orientation": "v",
         "showlegend": true,
         "text": [
          11.8
         ],
         "textposition": "auto",
         "type": "bar",
         "x": [
          "Cancelada"
         ],
         "xaxis": "x",
         "y": [
          11.8
         ],
         "yaxis": "y"
        },
        {
         "alignmentgroup": "True",
         "hovertemplate": "Ciudad=Ciudad de México<br>Estado_Venta=%{x}<br>Plusvalía_%_Anual=%{text}<extra></extra>",
         "legendgroup": "Ciudad de México",
         "marker": {
          "color": "#FFA15A",
          "pattern": {
           "shape": ""
          }
         },
         "name": "Ciudad de México",
         "offsetgroup": "Ciudad de México",
         "orientation": "v",
         "showlegend": true,
         "text": [
          11.78,
          11.7
         ],
         "textposition": "auto",
         "type": "bar",
         "x": [
          "Cancelada",
          "En proceso"
         ],
         "xaxis": "x",
         "y": [
          11.78,
          11.7
         ],
         "yaxis": "y"
        },
        {
         "alignmentgroup": "True",
         "hovertemplate": "Ciudad=Cancún<br>Estado_Venta=%{x}<br>Plusvalía_%_Anual=%{text}<extra></extra>",
         "legendgroup": "Cancún",
         "marker": {
          "color": "#19d3f3",
          "pattern": {
           "shape": ""
          }
         },
         "name": "Cancún",
         "offsetgroup": "Cancún",
         "orientation": "v",
         "showlegend": true,
         "text": [
          11.76,
          11.68
         ],
         "textposition": "auto",
         "type": "bar",
         "x": [
          "Cancelada",
          "Vendida"
         ],
         "xaxis": "x",
         "y": [
          11.76,
          11.68
         ],
         "yaxis": "y"
        },
        {
         "alignmentgroup": "True",
         "hovertemplate": "Ciudad=Puebla<br>Estado_Venta=%{x}<br>Plusvalía_%_Anual=%{text}<extra></extra>",
         "legendgroup": "Puebla",
         "marker": {
          "color": "#FF6692",
          "pattern": {
           "shape": ""
          }
         },
         "name": "Puebla",
         "offsetgroup": "Puebla",
         "orientation": "v",
         "showlegend": true,
         "text": [
          11.73
         ],
         "textposition": "auto",
         "type": "bar",
         "x": [
          "En proceso"
         ],
         "xaxis": "x",
         "y": [
          11.73
         ],
         "yaxis": "y"
        },
        {
         "alignmentgroup": "True",
         "hovertemplate": "Ciudad=Chihuahua<br>Estado_Venta=%{x}<br>Plusvalía_%_Anual=%{text}<extra></extra>",
         "legendgroup": "Chihuahua",
         "marker": {
          "color": "#B6E880",
          "pattern": {
           "shape": ""
          }
         },
         "name": "Chihuahua",
         "offsetgroup": "Chihuahua",
         "orientation": "v",
         "showlegend": true,
         "text": [
          11.7
         ],
         "textposition": "auto",
         "type": "bar",
         "x": [
          "Cancelada"
         ],
         "xaxis": "x",
         "y": [
          11.7
         ],
         "yaxis": "y"
        }
       ],
       "layout": {
        "barmode": "relative",
        "legend": {
         "title": {
          "text": "Ciudad"
         },
         "tracegroupgap": 0
        },
        "template": {
         "data": {
          "bar": [
           {
            "error_x": {
             "color": "#2a3f5f"
            },
            "error_y": {
             "color": "#2a3f5f"
            },
            "marker": {
             "line": {
              "color": "#E5ECF6",
              "width": 0.5
             },
             "pattern": {
              "fillmode": "overlay",
              "size": 10,
              "solidity": 0.2
             }
            },
            "type": "bar"
           }
          ],
          "barpolar": [
           {
            "marker": {
             "line": {
              "color": "#E5ECF6",
              "width": 0.5
             },
             "pattern": {
              "fillmode": "overlay",
              "size": 10,
              "solidity": 0.2
             }
            },
            "type": "barpolar"
           }
          ],
          "carpet": [
           {
            "aaxis": {
             "endlinecolor": "#2a3f5f",
             "gridcolor": "white",
             "linecolor": "white",
             "minorgridcolor": "white",
             "startlinecolor": "#2a3f5f"
            },
            "baxis": {
             "endlinecolor": "#2a3f5f",
             "gridcolor": "white",
             "linecolor": "white",
             "minorgridcolor": "white",
             "startlinecolor": "#2a3f5f"
            },
            "type": "carpet"
           }
          ],
          "choropleth": [
           {
            "colorbar": {
             "outlinewidth": 0,
             "ticks": ""
            },
            "type": "choropleth"
           }
          ],
          "contour": [
           {
            "colorbar": {
             "outlinewidth": 0,
             "ticks": ""
            },
            "colorscale": [
             [
              0,
              "#0d0887"
             ],
             [
              0.1111111111111111,
              "#46039f"
             ],
             [
              0.2222222222222222,
              "#7201a8"
             ],
             [
              0.3333333333333333,
              "#9c179e"
             ],
             [
              0.4444444444444444,
              "#bd3786"
             ],
             [
              0.5555555555555556,
              "#d8576b"
             ],
             [
              0.6666666666666666,
              "#ed7953"
             ],
             [
              0.7777777777777778,
              "#fb9f3a"
             ],
             [
              0.8888888888888888,
              "#fdca26"
             ],
             [
              1,
              "#f0f921"
             ]
            ],
            "type": "contour"
           }
          ],
          "contourcarpet": [
           {
            "colorbar": {
             "outlinewidth": 0,
             "ticks": ""
            },
            "type": "contourcarpet"
           }
          ],
          "heatmap": [
           {
            "colorbar": {
             "outlinewidth": 0,
             "ticks": ""
            },
            "colorscale": [
             [
              0,
              "#0d0887"
             ],
             [
              0.1111111111111111,
              "#46039f"
             ],
             [
              0.2222222222222222,
              "#7201a8"
             ],
             [
              0.3333333333333333,
              "#9c179e"
             ],
             [
              0.4444444444444444,
              "#bd3786"
             ],
             [
              0.5555555555555556,
              "#d8576b"
             ],
             [
              0.6666666666666666,
              "#ed7953"
             ],
             [
              0.7777777777777778,
              "#fb9f3a"
             ],
             [
              0.8888888888888888,
              "#fdca26"
             ],
             [
              1,
              "#f0f921"
             ]
            ],
            "type": "heatmap"
           }
          ],
          "heatmapgl": [
           {
            "colorbar": {
             "outlinewidth": 0,
             "ticks": ""
            },
            "colorscale": [
             [
              0,
              "#0d0887"
             ],
             [
              0.1111111111111111,
              "#46039f"
             ],
             [
              0.2222222222222222,
              "#7201a8"
             ],
             [
              0.3333333333333333,
              "#9c179e"
             ],
             [
              0.4444444444444444,
              "#bd3786"
             ],
             [
              0.5555555555555556,
              "#d8576b"
             ],
             [
              0.6666666666666666,
              "#ed7953"
             ],
             [
              0.7777777777777778,
              "#fb9f3a"
             ],
             [
              0.8888888888888888,
              "#fdca26"
             ],
             [
              1,
              "#f0f921"
             ]
            ],
            "type": "heatmapgl"
           }
          ],
          "histogram": [
           {
            "marker": {
             "pattern": {
              "fillmode": "overlay",
              "size": 10,
              "solidity": 0.2
             }
            },
            "type": "histogram"
           }
          ],
          "histogram2d": [
           {
            "colorbar": {
             "outlinewidth": 0,
             "ticks": ""
            },
            "colorscale": [
             [
              0,
              "#0d0887"
             ],
             [
              0.1111111111111111,
              "#46039f"
             ],
             [
              0.2222222222222222,
              "#7201a8"
             ],
             [
              0.3333333333333333,
              "#9c179e"
             ],
             [
              0.4444444444444444,
              "#bd3786"
             ],
             [
              0.5555555555555556,
              "#d8576b"
             ],
             [
              0.6666666666666666,
              "#ed7953"
             ],
             [
              0.7777777777777778,
              "#fb9f3a"
             ],
             [
              0.8888888888888888,
              "#fdca26"
             ],
             [
              1,
              "#f0f921"
             ]
            ],
            "type": "histogram2d"
           }
          ],
          "histogram2dcontour": [
           {
            "colorbar": {
             "outlinewidth": 0,
             "ticks": ""
            },
            "colorscale": [
             [
              0,
              "#0d0887"
             ],
             [
              0.1111111111111111,
              "#46039f"
             ],
             [
              0.2222222222222222,
              "#7201a8"
             ],
             [
              0.3333333333333333,
              "#9c179e"
             ],
             [
              0.4444444444444444,
              "#bd3786"
             ],
             [
              0.5555555555555556,
              "#d8576b"
             ],
             [
              0.6666666666666666,
              "#ed7953"
             ],
             [
              0.7777777777777778,
              "#fb9f3a"
             ],
             [
              0.8888888888888888,
              "#fdca26"
             ],
             [
              1,
              "#f0f921"
             ]
            ],
            "type": "histogram2dcontour"
           }
          ],
          "mesh3d": [
           {
            "colorbar": {
             "outlinewidth": 0,
             "ticks": ""
            },
            "type": "mesh3d"
           }
          ],
          "parcoords": [
           {
            "line": {
             "colorbar": {
              "outlinewidth": 0,
              "ticks": ""
             }
            },
            "type": "parcoords"
           }
          ],
          "pie": [
           {
            "automargin": true,
            "type": "pie"
           }
          ],
          "scatter": [
           {
            "fillpattern": {
             "fillmode": "overlay",
             "size": 10,
             "solidity": 0.2
            },
            "type": "scatter"
           }
          ],
          "scatter3d": [
           {
            "line": {
             "colorbar": {
              "outlinewidth": 0,
              "ticks": ""
             }
            },
            "marker": {
             "colorbar": {
              "outlinewidth": 0,
              "ticks": ""
             }
            },
            "type": "scatter3d"
           }
          ],
          "scattercarpet": [
           {
            "marker": {
             "colorbar": {
              "outlinewidth": 0,
              "ticks": ""
             }
            },
            "type": "scattercarpet"
           }
          ],
          "scattergeo": [
           {
            "marker": {
             "colorbar": {
              "outlinewidth": 0,
              "ticks": ""
             }
            },
            "type": "scattergeo"
           }
          ],
          "scattergl": [
           {
            "marker": {
             "colorbar": {
              "outlinewidth": 0,
              "ticks": ""
             }
            },
            "type": "scattergl"
           }
          ],
          "scattermapbox": [
           {
            "marker": {
             "colorbar": {
              "outlinewidth": 0,
              "ticks": ""
             }
            },
            "type": "scattermapbox"
           }
          ],
          "scatterpolar": [
           {
            "marker": {
             "colorbar": {
              "outlinewidth": 0,
              "ticks": ""
             }
            },
            "type": "scatterpolar"
           }
          ],
          "scatterpolargl": [
           {
            "marker": {
             "colorbar": {
              "outlinewidth": 0,
              "ticks": ""
             }
            },
            "type": "scatterpolargl"
           }
          ],
          "scatterternary": [
           {
            "marker": {
             "colorbar": {
              "outlinewidth": 0,
              "ticks": ""
             }
            },
            "type": "scatterternary"
           }
          ],
          "surface": [
           {
            "colorbar": {
             "outlinewidth": 0,
             "ticks": ""
            },
            "colorscale": [
             [
              0,
              "#0d0887"
             ],
             [
              0.1111111111111111,
              "#46039f"
             ],
             [
              0.2222222222222222,
              "#7201a8"
             ],
             [
              0.3333333333333333,
              "#9c179e"
             ],
             [
              0.4444444444444444,
              "#bd3786"
             ],
             [
              0.5555555555555556,
              "#d8576b"
             ],
             [
              0.6666666666666666,
              "#ed7953"
             ],
             [
              0.7777777777777778,
              "#fb9f3a"
             ],
             [
              0.8888888888888888,
              "#fdca26"
             ],
             [
              1,
              "#f0f921"
             ]
            ],
            "type": "surface"
           }
          ],
          "table": [
           {
            "cells": {
             "fill": {
              "color": "#EBF0F8"
             },
             "line": {
              "color": "white"
             }
            },
            "header": {
             "fill": {
              "color": "#C8D4E3"
             },
             "line": {
              "color": "white"
             }
            },
            "type": "table"
           }
          ]
         },
         "layout": {
          "annotationdefaults": {
           "arrowcolor": "#2a3f5f",
           "arrowhead": 0,
           "arrowwidth": 1
          },
          "autotypenumbers": "strict",
          "coloraxis": {
           "colorbar": {
            "outlinewidth": 0,
            "ticks": ""
           }
          },
          "colorscale": {
           "diverging": [
            [
             0,
             "#8e0152"
            ],
            [
             0.1,
             "#c51b7d"
            ],
            [
             0.2,
             "#de77ae"
            ],
            [
             0.3,
             "#f1b6da"
            ],
            [
             0.4,
             "#fde0ef"
            ],
            [
             0.5,
             "#f7f7f7"
            ],
            [
             0.6,
             "#e6f5d0"
            ],
            [
             0.7,
             "#b8e186"
            ],
            [
             0.8,
             "#7fbc41"
            ],
            [
             0.9,
             "#4d9221"
            ],
            [
             1,
             "#276419"
            ]
           ],
           "sequential": [
            [
             0,
             "#0d0887"
            ],
            [
             0.1111111111111111,
             "#46039f"
            ],
            [
             0.2222222222222222,
             "#7201a8"
            ],
            [
             0.3333333333333333,
             "#9c179e"
            ],
            [
             0.4444444444444444,
             "#bd3786"
            ],
            [
             0.5555555555555556,
             "#d8576b"
            ],
            [
             0.6666666666666666,
             "#ed7953"
            ],
            [
             0.7777777777777778,
             "#fb9f3a"
            ],
            [
             0.8888888888888888,
             "#fdca26"
            ],
            [
             1,
             "#f0f921"
            ]
           ],
           "sequentialminus": [
            [
             0,
             "#0d0887"
            ],
            [
             0.1111111111111111,
             "#46039f"
            ],
            [
             0.2222222222222222,
             "#7201a8"
            ],
            [
             0.3333333333333333,
             "#9c179e"
            ],
            [
             0.4444444444444444,
             "#bd3786"
            ],
            [
             0.5555555555555556,
             "#d8576b"
            ],
            [
             0.6666666666666666,
             "#ed7953"
            ],
            [
             0.7777777777777778,
             "#fb9f3a"
            ],
            [
             0.8888888888888888,
             "#fdca26"
            ],
            [
             1,
             "#f0f921"
            ]
           ]
          },
          "colorway": [
           "#636efa",
           "#EF553B",
           "#00cc96",
           "#ab63fa",
           "#FFA15A",
           "#19d3f3",
           "#FF6692",
           "#B6E880",
           "#FF97FF",
           "#FECB52"
          ],
          "font": {
           "color": "#2a3f5f"
          },
          "geo": {
           "bgcolor": "white",
           "lakecolor": "white",
           "landcolor": "#E5ECF6",
           "showlakes": true,
           "showland": true,
           "subunitcolor": "white"
          },
          "hoverlabel": {
           "align": "left"
          },
          "hovermode": "closest",
          "mapbox": {
           "style": "light"
          },
          "paper_bgcolor": "white",
          "plot_bgcolor": "#E5ECF6",
          "polar": {
           "angularaxis": {
            "gridcolor": "white",
            "linecolor": "white",
            "ticks": ""
           },
           "bgcolor": "#E5ECF6",
           "radialaxis": {
            "gridcolor": "white",
            "linecolor": "white",
            "ticks": ""
           }
          },
          "scene": {
           "xaxis": {
            "backgroundcolor": "#E5ECF6",
            "gridcolor": "white",
            "gridwidth": 2,
            "linecolor": "white",
            "showbackground": true,
            "ticks": "",
            "zerolinecolor": "white"
           },
           "yaxis": {
            "backgroundcolor": "#E5ECF6",
            "gridcolor": "white",
            "gridwidth": 2,
            "linecolor": "white",
            "showbackground": true,
            "ticks": "",
            "zerolinecolor": "white"
           },
           "zaxis": {
            "backgroundcolor": "#E5ECF6",
            "gridcolor": "white",
            "gridwidth": 2,
            "linecolor": "white",
            "showbackground": true,
            "ticks": "",
            "zerolinecolor": "white"
           }
          },
          "shapedefaults": {
           "line": {
            "color": "#2a3f5f"
           }
          },
          "ternary": {
           "aaxis": {
            "gridcolor": "white",
            "linecolor": "white",
            "ticks": ""
           },
           "baxis": {
            "gridcolor": "white",
            "linecolor": "white",
            "ticks": ""
           },
           "bgcolor": "#E5ECF6",
           "caxis": {
            "gridcolor": "white",
            "linecolor": "white",
            "ticks": ""
           }
          },
          "title": {
           "x": 0.05
          },
          "xaxis": {
           "automargin": true,
           "gridcolor": "white",
           "linecolor": "white",
           "ticks": "",
           "title": {
            "standoff": 15
           },
           "zerolinecolor": "white",
           "zerolinewidth": 2
          },
          "yaxis": {
           "automargin": true,
           "gridcolor": "white",
           "linecolor": "white",
           "ticks": "",
           "title": {
            "standoff": 15
           },
           "zerolinecolor": "white",
           "zerolinewidth": 2
          }
         }
        },
        "title": {
         "text": "Relacion del estado de la venta con la plusvalia"
        },
        "xaxis": {
         "anchor": "y",
         "domain": [
          0,
          1
         ],
         "title": {
          "text": "Estado_Venta"
         }
        },
        "yaxis": {
         "anchor": "x",
         "domain": [
          0,
          1
         ],
         "title": {
          "text": "Plusvalía_%_Anual"
         }
        }
       }
      }
     },
     "metadata": {},
     "output_type": "display_data"
    }
   ],
   "source": [
    "#Graficando con plotly \n",
    "figura1 = pl.bar(df_mayorvalor, x='Estado_Venta', y= 'Plusvalía_%_Anual', color= 'Ciudad', title= 'Relacion del estado de la venta con la plusvalia', text= 'Plusvalía_%_Anual')\n",
    "figura1.show()"
   ]
  },
  {
   "cell_type": "code",
   "execution_count": 22,
   "id": "78efd3e5",
   "metadata": {},
   "outputs": [
    {
     "data": {
      "application/vnd.plotly.v1+json": {
       "config": {
        "plotlyServerURL": "https://plot.ly"
       },
       "data": [
        {
         "alignmentgroup": "True",
         "hovertemplate": "Ciudad=Puebla<br>Estado_Venta=%{x}<br>Plusvalía_%_Anual=%{y}<extra></extra>",
         "legendgroup": "Puebla",
         "marker": {
          "color": "#636efa",
          "pattern": {
           "shape": ""
          }
         },
         "name": "Puebla",
         "offsetgroup": "Puebla",
         "orientation": "v",
         "showlegend": true,
         "textposition": "auto",
         "type": "bar",
         "x": [
          "Cancelada",
          "Vendida",
          "En proceso",
          "En proceso",
          "Cancelada",
          "En proceso",
          "En proceso",
          "Vendida",
          "En proceso",
          "Vendida",
          "Cancelada",
          "Vendida",
          "En proceso",
          "Vendida",
          "En proceso",
          "Vendida",
          "Cancelada",
          "Vendida",
          "En proceso",
          "En proceso",
          "En proceso",
          "Cancelada",
          "En proceso",
          "En proceso",
          "Cancelada",
          "En proceso",
          "Cancelada",
          "Vendida",
          "Vendida",
          "En proceso",
          "Vendida",
          "En proceso",
          "En proceso",
          "En proceso",
          "Vendida",
          "En proceso",
          "En proceso",
          "En proceso",
          "Vendida",
          "Vendida",
          "Cancelada",
          "En proceso",
          "Vendida",
          "En proceso",
          "Vendida",
          "Vendida",
          "En proceso",
          "Cancelada"
         ],
         "xaxis": "x",
         "y": [
          5.19,
          10.79,
          2.01,
          11.42,
          9.74,
          7.77,
          8.74,
          2.57,
          4.7,
          11.16,
          0.14,
          6.84,
          1.63,
          1.89,
          5.04,
          3.26,
          10.19,
          10.15,
          8.43,
          11.73,
          -0.69,
          8.57,
          2.79,
          9.73,
          3.58,
          5.89,
          1.99,
          10.69,
          9.5,
          11.42,
          -0.6,
          1.76,
          6.99,
          -0.74,
          5.25,
          -0.05,
          6.81,
          4.85,
          5.4,
          3.22,
          9.34,
          8.66,
          8.67,
          0.89,
          2.47,
          10.54,
          8.98,
          10.24
         ],
         "yaxis": "y"
        },
        {
         "alignmentgroup": "True",
         "hovertemplate": "Ciudad=Ciudad de México<br>Estado_Venta=%{x}<br>Plusvalía_%_Anual=%{y}<extra></extra>",
         "legendgroup": "Ciudad de México",
         "marker": {
          "color": "#EF553B",
          "pattern": {
           "shape": ""
          }
         },
         "name": "Ciudad de México",
         "offsetgroup": "Ciudad de México",
         "orientation": "v",
         "showlegend": true,
         "textposition": "auto",
         "type": "bar",
         "x": [
          "Cancelada",
          "Cancelada",
          "En proceso",
          "En proceso",
          "En proceso",
          "Vendida",
          "En proceso",
          "Cancelada",
          "En proceso",
          "Cancelada",
          "Cancelada",
          "Vendida",
          "Vendida",
          "En proceso",
          "Cancelada",
          "Vendida",
          "En proceso",
          "Cancelada",
          "En proceso",
          "En proceso",
          "Cancelada",
          "Vendida",
          "Vendida",
          "En proceso",
          "En proceso",
          "Vendida",
          "En proceso",
          "Cancelada",
          "Vendida",
          "Cancelada",
          "Vendida",
          "Cancelada",
          "En proceso",
          "En proceso",
          "En proceso",
          "En proceso",
          "Cancelada",
          "Cancelada",
          "En proceso",
          "En proceso",
          "Cancelada",
          "Vendida",
          "En proceso",
          "En proceso",
          "Cancelada",
          "Cancelada",
          "Vendida",
          "Cancelada",
          "Vendida"
         ],
         "xaxis": "x",
         "y": [
          9.15,
          11.78,
          11.02,
          2.93,
          5.44,
          0.03,
          8.4,
          4.51,
          8.83,
          4.57,
          2.38,
          4,
          1.78,
          8.91,
          0.42,
          1.83,
          11.7,
          1.93,
          11.47,
          4.9,
          5.06,
          9.88,
          7.72,
          5.92,
          4.65,
          2.17,
          1.72,
          2.06,
          2.86,
          10.71,
          4.84,
          4.04,
          8.67,
          3.85,
          5.56,
          5.85,
          7.42,
          5.23,
          7.86,
          5.15,
          5.19,
          2.3,
          5.46,
          10.59,
          1.92,
          1.33,
          9.92,
          2.97,
          1.16
         ],
         "yaxis": "y"
        },
        {
         "alignmentgroup": "True",
         "hovertemplate": "Ciudad=Guadalajara<br>Estado_Venta=%{x}<br>Plusvalía_%_Anual=%{y}<extra></extra>",
         "legendgroup": "Guadalajara",
         "marker": {
          "color": "#00cc96",
          "pattern": {
           "shape": ""
          }
         },
         "name": "Guadalajara",
         "offsetgroup": "Guadalajara",
         "orientation": "v",
         "showlegend": true,
         "textposition": "auto",
         "type": "bar",
         "x": [
          "En proceso",
          "Vendida",
          "Vendida",
          "Cancelada",
          "Vendida",
          "En proceso",
          "En proceso",
          "Cancelada",
          "En proceso",
          "En proceso",
          "Cancelada",
          "Cancelada",
          "Cancelada",
          "Vendida",
          "Cancelada",
          "Vendida",
          "Vendida",
          "En proceso",
          "Vendida",
          "Vendida",
          "En proceso",
          "En proceso",
          "En proceso",
          "Cancelada",
          "Vendida",
          "Cancelada",
          "Vendida",
          "Cancelada",
          "Vendida",
          "Vendida",
          "Cancelada",
          "En proceso",
          "En proceso",
          "Vendida",
          "En proceso",
          "En proceso",
          "Vendida",
          "Vendida",
          "En proceso",
          "En proceso",
          "Cancelada",
          "Vendida"
         ],
         "xaxis": "x",
         "y": [
          9.99,
          2.67,
          11.1,
          7.34,
          4.67,
          11.29,
          4.72,
          11.23,
          6.16,
          5.76,
          2.15,
          9.84,
          7.62,
          3.32,
          0.83,
          9.45,
          0.14,
          0.32,
          9.11,
          -0.21,
          1.11,
          9.28,
          8.26,
          0.29,
          1.93,
          1.04,
          11.14,
          10.62,
          8.84,
          4.47,
          3.35,
          7.37,
          6.9,
          9.3,
          2.22,
          -0.22,
          1.41,
          1.85,
          3.86,
          7.67,
          9.66,
          9.72
         ],
         "yaxis": "y"
        },
        {
         "alignmentgroup": "True",
         "hovertemplate": "Ciudad=León<br>Estado_Venta=%{x}<br>Plusvalía_%_Anual=%{y}<extra></extra>",
         "legendgroup": "León",
         "marker": {
          "color": "#ab63fa",
          "pattern": {
           "shape": ""
          }
         },
         "name": "León",
         "offsetgroup": "León",
         "orientation": "v",
         "showlegend": true,
         "textposition": "auto",
         "type": "bar",
         "x": [
          "Cancelada",
          "En proceso",
          "Vendida",
          "Cancelada",
          "Vendida",
          "En proceso",
          "En proceso",
          "Cancelada",
          "Vendida",
          "Vendida",
          "Vendida",
          "En proceso",
          "En proceso",
          "En proceso",
          "Vendida",
          "Cancelada",
          "Cancelada",
          "Vendida",
          "Cancelada",
          "Cancelada",
          "En proceso",
          "En proceso",
          "Vendida",
          "Vendida",
          "Vendida",
          "Vendida",
          "Vendida",
          "Cancelada",
          "Cancelada",
          "Cancelada",
          "Cancelada",
          "En proceso",
          "En proceso",
          "En proceso",
          "En proceso",
          "En proceso",
          "Cancelada",
          "Vendida",
          "Cancelada",
          "Vendida",
          "En proceso",
          "En proceso",
          "Cancelada",
          "En proceso",
          "En proceso",
          "En proceso",
          "Vendida",
          "Cancelada",
          "En proceso",
          "En proceso",
          "Cancelada",
          "En proceso"
         ],
         "xaxis": "x",
         "y": [
          6.16,
          5.51,
          5.2,
          10.02,
          9.9,
          3.64,
          10.09,
          5.47,
          1.99,
          5.52,
          11.88,
          4.88,
          1.33,
          5.81,
          9.89,
          -0.27,
          10.28,
          0.94,
          1.4,
          -0.77,
          6.84,
          10.44,
          5.26,
          3.07,
          2.7,
          0.52,
          5.97,
          0.19,
          9.58,
          3.13,
          5.04,
          -0.4,
          3.6,
          8.61,
          10.36,
          6.02,
          8.1,
          1.44,
          8.81,
          7.8,
          7.55,
          7,
          5.8,
          7.36,
          0.88,
          11.64,
          4.59,
          9.55,
          7.66,
          11.35,
          8,
          8.5
         ],
         "yaxis": "y"
        },
        {
         "alignmentgroup": "True",
         "hovertemplate": "Ciudad=Monterrey<br>Estado_Venta=%{x}<br>Plusvalía_%_Anual=%{y}<extra></extra>",
         "legendgroup": "Monterrey",
         "marker": {
          "color": "#FFA15A",
          "pattern": {
           "shape": ""
          }
         },
         "name": "Monterrey",
         "offsetgroup": "Monterrey",
         "orientation": "v",
         "showlegend": true,
         "textposition": "auto",
         "type": "bar",
         "x": [
          "Vendida",
          "En proceso",
          "Vendida",
          "Vendida",
          "Vendida",
          "Cancelada",
          "Vendida",
          "En proceso",
          "Cancelada",
          "Cancelada",
          "Vendida",
          "Vendida",
          "En proceso",
          "En proceso",
          "En proceso",
          "Cancelada",
          "Vendida",
          "Vendida",
          "Vendida",
          "En proceso",
          "Cancelada",
          "Vendida",
          "Vendida",
          "En proceso",
          "En proceso",
          "En proceso",
          "En proceso",
          "Vendida",
          "Vendida",
          "Vendida",
          "En proceso",
          "Cancelada",
          "Cancelada",
          "En proceso",
          "Cancelada",
          "En proceso",
          "En proceso",
          "Cancelada",
          "Cancelada",
          "Vendida",
          "Cancelada",
          "En proceso",
          "Cancelada",
          "Vendida",
          "Vendida",
          "Vendida",
          "En proceso",
          "Vendida",
          "En proceso",
          "Vendida",
          "En proceso",
          "Vendida",
          "Cancelada",
          "Vendida",
          "Cancelada",
          "En proceso",
          "En proceso",
          "Vendida",
          "En proceso",
          "Vendida"
         ],
         "xaxis": "x",
         "y": [
          6.03,
          7.99,
          4.97,
          1.92,
          4.05,
          9.81,
          -0.88,
          -0.26,
          9.72,
          2.62,
          5.54,
          0.93,
          10.05,
          3.77,
          3.24,
          9.35,
          9.46,
          8.61,
          9.55,
          5.19,
          7.12,
          -0.05,
          3.18,
          -0.54,
          5.76,
          9.44,
          5.99,
          4.53,
          5.94,
          5.38,
          4.45,
          6.48,
          0.68,
          -0.89,
          1.05,
          2.36,
          -0.88,
          5.98,
          1.91,
          6.61,
          0.26,
          4.97,
          -0.2,
          11.29,
          4.85,
          6.45,
          4.99,
          0.95,
          0.48,
          1.55,
          6.79,
          6.02,
          8.55,
          2.36,
          3.97,
          9.22,
          2.91,
          10.31,
          4.67,
          1.39
         ],
         "yaxis": "y"
        },
        {
         "alignmentgroup": "True",
         "hovertemplate": "Ciudad=Cancún<br>Estado_Venta=%{x}<br>Plusvalía_%_Anual=%{y}<extra></extra>",
         "legendgroup": "Cancún",
         "marker": {
          "color": "#19d3f3",
          "pattern": {
           "shape": ""
          }
         },
         "name": "Cancún",
         "offsetgroup": "Cancún",
         "orientation": "v",
         "showlegend": true,
         "textposition": "auto",
         "type": "bar",
         "x": [
          "En proceso",
          "En proceso",
          "En proceso",
          "En proceso",
          "En proceso",
          "En proceso",
          "Cancelada",
          "En proceso",
          "En proceso",
          "En proceso",
          "Vendida",
          "Vendida",
          "En proceso",
          "Cancelada",
          "Vendida",
          "Cancelada",
          "En proceso",
          "Vendida",
          "En proceso",
          "Vendida",
          "Vendida",
          "En proceso",
          "Cancelada",
          "Vendida",
          "Vendida",
          "Cancelada",
          "Vendida",
          "Vendida",
          "Vendida",
          "En proceso",
          "Cancelada",
          "Cancelada",
          "En proceso",
          "En proceso",
          "Cancelada",
          "Cancelada",
          "En proceso",
          "Vendida",
          "Vendida",
          "En proceso",
          "En proceso",
          "En proceso",
          "En proceso"
         ],
         "xaxis": "x",
         "y": [
          7.62,
          10.27,
          2,
          3.89,
          6.25,
          2.05,
          1.15,
          5.24,
          6.62,
          0.52,
          7.44,
          4.84,
          8.18,
          0.03,
          11.68,
          6.82,
          8.54,
          -0.62,
          5.02,
          5.78,
          0.5,
          9.78,
          1.19,
          8.22,
          10.02,
          1.44,
          1.05,
          9.3,
          9.19,
          0.8,
          3.73,
          9.09,
          7.39,
          1.38,
          0.7,
          11.76,
          1.12,
          8.06,
          4.38,
          8.73,
          0.44,
          7.05,
          1.51
         ],
         "yaxis": "y"
        },
        {
         "alignmentgroup": "True",
         "hovertemplate": "Ciudad=Chihuahua<br>Estado_Venta=%{x}<br>Plusvalía_%_Anual=%{y}<extra></extra>",
         "legendgroup": "Chihuahua",
         "marker": {
          "color": "#FF6692",
          "pattern": {
           "shape": ""
          }
         },
         "name": "Chihuahua",
         "offsetgroup": "Chihuahua",
         "orientation": "v",
         "showlegend": true,
         "textposition": "auto",
         "type": "bar",
         "x": [
          "En proceso",
          "Cancelada",
          "Cancelada",
          "Vendida",
          "Vendida",
          "Vendida",
          "Cancelada",
          "Cancelada",
          "Vendida",
          "En proceso",
          "Cancelada",
          "En proceso",
          "En proceso",
          "Vendida",
          "En proceso",
          "Vendida",
          "Vendida",
          "En proceso",
          "Vendida",
          "Cancelada",
          "En proceso",
          "En proceso",
          "En proceso",
          "En proceso",
          "Vendida",
          "En proceso",
          "Cancelada",
          "Vendida",
          "En proceso",
          "Cancelada",
          "Vendida",
          "Vendida",
          "Cancelada",
          "Vendida",
          "Cancelada",
          "Cancelada",
          "En proceso",
          "En proceso",
          "En proceso",
          "Cancelada",
          "En proceso",
          "Vendida",
          "Cancelada",
          "Vendida",
          "Vendida",
          "Cancelada",
          "Cancelada",
          "Cancelada",
          "En proceso",
          "Cancelada",
          "Cancelada",
          "Cancelada"
         ],
         "xaxis": "x",
         "y": [
          10.02,
          7.23,
          1.17,
          9.17,
          3.65,
          5.14,
          8.95,
          0.41,
          7.33,
          9.5,
          4.94,
          5.88,
          2.62,
          4.97,
          -0.68,
          10.17,
          3.29,
          0.44,
          1.96,
          3.84,
          4.63,
          -0.3,
          10.23,
          7.14,
          8.59,
          7.86,
          1.2,
          4.77,
          7.89,
          9.28,
          1.94,
          0.79,
          9.11,
          1.29,
          4.67,
          -0.8,
          9.85,
          6.56,
          -0.93,
          0.25,
          10.57,
          0.97,
          11.55,
          -0.32,
          2.09,
          9.58,
          0.38,
          -0.37,
          6.51,
          11.7,
          -0.57,
          10.92
         ],
         "yaxis": "y"
        },
        {
         "alignmentgroup": "True",
         "hovertemplate": "Ciudad=Querétaro<br>Estado_Venta=%{x}<br>Plusvalía_%_Anual=%{y}<extra></extra>",
         "legendgroup": "Querétaro",
         "marker": {
          "color": "#B6E880",
          "pattern": {
           "shape": ""
          }
         },
         "name": "Querétaro",
         "offsetgroup": "Querétaro",
         "orientation": "v",
         "showlegend": true,
         "textposition": "auto",
         "type": "bar",
         "x": [
          "Vendida",
          "Vendida",
          "Vendida",
          "Cancelada",
          "Vendida",
          "Cancelada",
          "Cancelada",
          "Vendida",
          "En proceso",
          "En proceso",
          "En proceso",
          "Vendida",
          "En proceso",
          "Cancelada",
          "Cancelada",
          "En proceso",
          "Vendida",
          "En proceso",
          "Vendida",
          "Cancelada",
          "En proceso",
          "Vendida",
          "Vendida",
          "En proceso",
          "En proceso",
          "En proceso",
          "Cancelada",
          "Cancelada",
          "Cancelada",
          "Vendida",
          "Cancelada",
          "Vendida",
          "En proceso",
          "Vendida",
          "En proceso",
          "Cancelada",
          "Vendida",
          "Vendida",
          "En proceso",
          "Cancelada",
          "En proceso",
          "Cancelada",
          "Cancelada",
          "Cancelada",
          "Vendida",
          "Vendida",
          "En proceso",
          "En proceso",
          "En proceso",
          "Vendida",
          "Vendida",
          "Vendida"
         ],
         "xaxis": "x",
         "y": [
          1.78,
          7.74,
          -0.5,
          2.14,
          9.62,
          8.12,
          11.63,
          2.11,
          6.8,
          2.58,
          10.74,
          6.52,
          11.81,
          8.94,
          3.38,
          6.86,
          10.2,
          4.02,
          1.51,
          6.02,
          9.23,
          3.6,
          7.24,
          8.61,
          4.78,
          11.52,
          0.9,
          3.92,
          -0.57,
          0.93,
          11.56,
          10.07,
          0.33,
          11.45,
          8.76,
          4.02,
          9.03,
          3.97,
          5.64,
          10.65,
          3.76,
          4.18,
          5.2,
          4.35,
          6.7,
          5.61,
          3.34,
          11.65,
          -0.29,
          7.48,
          3.82,
          0.8
         ],
         "yaxis": "y"
        },
        {
         "alignmentgroup": "True",
         "hovertemplate": "Ciudad=Tijuana<br>Estado_Venta=%{x}<br>Plusvalía_%_Anual=%{y}<extra></extra>",
         "legendgroup": "Tijuana",
         "marker": {
          "color": "#FF97FF",
          "pattern": {
           "shape": ""
          }
         },
         "name": "Tijuana",
         "offsetgroup": "Tijuana",
         "orientation": "v",
         "showlegend": true,
         "textposition": "auto",
         "type": "bar",
         "x": [
          "Vendida",
          "En proceso",
          "En proceso",
          "En proceso",
          "Vendida",
          "Vendida",
          "Vendida",
          "Cancelada",
          "Vendida",
          "Vendida",
          "Vendida",
          "Vendida",
          "En proceso",
          "Cancelada",
          "En proceso",
          "Vendida",
          "Cancelada",
          "En proceso",
          "En proceso",
          "Vendida",
          "Cancelada",
          "Vendida",
          "Cancelada",
          "Cancelada",
          "Vendida",
          "Cancelada",
          "En proceso",
          "Cancelada",
          "Cancelada",
          "Vendida",
          "En proceso",
          "Cancelada",
          "Vendida",
          "En proceso",
          "En proceso",
          "Vendida",
          "Vendida",
          "Vendida",
          "Vendida",
          "Cancelada",
          "Cancelada",
          "En proceso",
          "Cancelada",
          "Vendida",
          "Cancelada",
          "En proceso"
         ],
         "xaxis": "x",
         "y": [
          4.93,
          6.56,
          9.16,
          11.98,
          1.3,
          6.13,
          9.64,
          2.3,
          7.13,
          8.83,
          8.81,
          7.53,
          0.6,
          3.64,
          10.77,
          11.89,
          7.58,
          10.86,
          7.38,
          11.31,
          9.08,
          6.77,
          8.71,
          1.07,
          3.44,
          2.67,
          11.23,
          3.07,
          11.7,
          10.43,
          1.38,
          1.48,
          6.19,
          -0.79,
          10.64,
          4.8,
          3.77,
          0.53,
          5.5,
          11.23,
          5.91,
          10.81,
          7.4,
          8.81,
          10.4,
          6.76
         ],
         "yaxis": "y"
        },
        {
         "alignmentgroup": "True",
         "hovertemplate": "Ciudad=Mérida<br>Estado_Venta=%{x}<br>Plusvalía_%_Anual=%{y}<extra></extra>",
         "legendgroup": "Mérida",
         "marker": {
          "color": "#FECB52",
          "pattern": {
           "shape": ""
          }
         },
         "name": "Mérida",
         "offsetgroup": "Mérida",
         "orientation": "v",
         "showlegend": true,
         "textposition": "auto",
         "type": "bar",
         "x": [
          "Vendida",
          "Vendida",
          "Vendida",
          "En proceso",
          "En proceso",
          "En proceso",
          "Cancelada",
          "Vendida",
          "Cancelada",
          "En proceso",
          "En proceso",
          "Vendida",
          "Vendida",
          "Cancelada",
          "Cancelada",
          "Cancelada",
          "En proceso",
          "Vendida",
          "Cancelada",
          "Vendida",
          "Vendida",
          "En proceso",
          "Cancelada",
          "Cancelada",
          "Cancelada",
          "Vendida",
          "En proceso",
          "Vendida",
          "En proceso",
          "En proceso",
          "En proceso",
          "Vendida",
          "Vendida",
          "Cancelada",
          "En proceso",
          "Cancelada",
          "Vendida",
          "Cancelada",
          "En proceso",
          "En proceso",
          "Vendida",
          "Cancelada",
          "Vendida",
          "Vendida",
          "En proceso",
          "En proceso",
          "Vendida",
          "En proceso",
          "Vendida",
          "Cancelada",
          "En proceso",
          "Vendida",
          "Vendida",
          "Cancelada",
          "Vendida",
          "Cancelada"
         ],
         "xaxis": "x",
         "y": [
          3.51,
          2.9,
          10.64,
          11.4,
          1.21,
          5.52,
          10.32,
          7.88,
          -0.97,
          10.16,
          6.48,
          -0.17,
          11.3,
          9.25,
          8.35,
          9.03,
          1.46,
          9.99,
          3.29,
          -0.55,
          0.44,
          10.11,
          5.21,
          11.8,
          4.8,
          0.81,
          8.2,
          2.79,
          5.71,
          3.31,
          11.47,
          2.09,
          3.4,
          10.22,
          4.58,
          4.26,
          10.94,
          4.97,
          7.52,
          1.37,
          2.22,
          1.15,
          3.08,
          5.27,
          2.66,
          10.36,
          1.62,
          1.48,
          1.72,
          -0.5,
          -0.41,
          8.84,
          8.58,
          2.98,
          0.04,
          9.97
         ],
         "yaxis": "y"
        }
       ],
       "layout": {
        "barmode": "relative",
        "legend": {
         "title": {
          "text": "Ciudad"
         },
         "tracegroupgap": 0
        },
        "template": {
         "data": {
          "bar": [
           {
            "error_x": {
             "color": "#2a3f5f"
            },
            "error_y": {
             "color": "#2a3f5f"
            },
            "marker": {
             "line": {
              "color": "#E5ECF6",
              "width": 0.5
             },
             "pattern": {
              "fillmode": "overlay",
              "size": 10,
              "solidity": 0.2
             }
            },
            "type": "bar"
           }
          ],
          "barpolar": [
           {
            "marker": {
             "line": {
              "color": "#E5ECF6",
              "width": 0.5
             },
             "pattern": {
              "fillmode": "overlay",
              "size": 10,
              "solidity": 0.2
             }
            },
            "type": "barpolar"
           }
          ],
          "carpet": [
           {
            "aaxis": {
             "endlinecolor": "#2a3f5f",
             "gridcolor": "white",
             "linecolor": "white",
             "minorgridcolor": "white",
             "startlinecolor": "#2a3f5f"
            },
            "baxis": {
             "endlinecolor": "#2a3f5f",
             "gridcolor": "white",
             "linecolor": "white",
             "minorgridcolor": "white",
             "startlinecolor": "#2a3f5f"
            },
            "type": "carpet"
           }
          ],
          "choropleth": [
           {
            "colorbar": {
             "outlinewidth": 0,
             "ticks": ""
            },
            "type": "choropleth"
           }
          ],
          "contour": [
           {
            "colorbar": {
             "outlinewidth": 0,
             "ticks": ""
            },
            "colorscale": [
             [
              0,
              "#0d0887"
             ],
             [
              0.1111111111111111,
              "#46039f"
             ],
             [
              0.2222222222222222,
              "#7201a8"
             ],
             [
              0.3333333333333333,
              "#9c179e"
             ],
             [
              0.4444444444444444,
              "#bd3786"
             ],
             [
              0.5555555555555556,
              "#d8576b"
             ],
             [
              0.6666666666666666,
              "#ed7953"
             ],
             [
              0.7777777777777778,
              "#fb9f3a"
             ],
             [
              0.8888888888888888,
              "#fdca26"
             ],
             [
              1,
              "#f0f921"
             ]
            ],
            "type": "contour"
           }
          ],
          "contourcarpet": [
           {
            "colorbar": {
             "outlinewidth": 0,
             "ticks": ""
            },
            "type": "contourcarpet"
           }
          ],
          "heatmap": [
           {
            "colorbar": {
             "outlinewidth": 0,
             "ticks": ""
            },
            "colorscale": [
             [
              0,
              "#0d0887"
             ],
             [
              0.1111111111111111,
              "#46039f"
             ],
             [
              0.2222222222222222,
              "#7201a8"
             ],
             [
              0.3333333333333333,
              "#9c179e"
             ],
             [
              0.4444444444444444,
              "#bd3786"
             ],
             [
              0.5555555555555556,
              "#d8576b"
             ],
             [
              0.6666666666666666,
              "#ed7953"
             ],
             [
              0.7777777777777778,
              "#fb9f3a"
             ],
             [
              0.8888888888888888,
              "#fdca26"
             ],
             [
              1,
              "#f0f921"
             ]
            ],
            "type": "heatmap"
           }
          ],
          "heatmapgl": [
           {
            "colorbar": {
             "outlinewidth": 0,
             "ticks": ""
            },
            "colorscale": [
             [
              0,
              "#0d0887"
             ],
             [
              0.1111111111111111,
              "#46039f"
             ],
             [
              0.2222222222222222,
              "#7201a8"
             ],
             [
              0.3333333333333333,
              "#9c179e"
             ],
             [
              0.4444444444444444,
              "#bd3786"
             ],
             [
              0.5555555555555556,
              "#d8576b"
             ],
             [
              0.6666666666666666,
              "#ed7953"
             ],
             [
              0.7777777777777778,
              "#fb9f3a"
             ],
             [
              0.8888888888888888,
              "#fdca26"
             ],
             [
              1,
              "#f0f921"
             ]
            ],
            "type": "heatmapgl"
           }
          ],
          "histogram": [
           {
            "marker": {
             "pattern": {
              "fillmode": "overlay",
              "size": 10,
              "solidity": 0.2
             }
            },
            "type": "histogram"
           }
          ],
          "histogram2d": [
           {
            "colorbar": {
             "outlinewidth": 0,
             "ticks": ""
            },
            "colorscale": [
             [
              0,
              "#0d0887"
             ],
             [
              0.1111111111111111,
              "#46039f"
             ],
             [
              0.2222222222222222,
              "#7201a8"
             ],
             [
              0.3333333333333333,
              "#9c179e"
             ],
             [
              0.4444444444444444,
              "#bd3786"
             ],
             [
              0.5555555555555556,
              "#d8576b"
             ],
             [
              0.6666666666666666,
              "#ed7953"
             ],
             [
              0.7777777777777778,
              "#fb9f3a"
             ],
             [
              0.8888888888888888,
              "#fdca26"
             ],
             [
              1,
              "#f0f921"
             ]
            ],
            "type": "histogram2d"
           }
          ],
          "histogram2dcontour": [
           {
            "colorbar": {
             "outlinewidth": 0,
             "ticks": ""
            },
            "colorscale": [
             [
              0,
              "#0d0887"
             ],
             [
              0.1111111111111111,
              "#46039f"
             ],
             [
              0.2222222222222222,
              "#7201a8"
             ],
             [
              0.3333333333333333,
              "#9c179e"
             ],
             [
              0.4444444444444444,
              "#bd3786"
             ],
             [
              0.5555555555555556,
              "#d8576b"
             ],
             [
              0.6666666666666666,
              "#ed7953"
             ],
             [
              0.7777777777777778,
              "#fb9f3a"
             ],
             [
              0.8888888888888888,
              "#fdca26"
             ],
             [
              1,
              "#f0f921"
             ]
            ],
            "type": "histogram2dcontour"
           }
          ],
          "mesh3d": [
           {
            "colorbar": {
             "outlinewidth": 0,
             "ticks": ""
            },
            "type": "mesh3d"
           }
          ],
          "parcoords": [
           {
            "line": {
             "colorbar": {
              "outlinewidth": 0,
              "ticks": ""
             }
            },
            "type": "parcoords"
           }
          ],
          "pie": [
           {
            "automargin": true,
            "type": "pie"
           }
          ],
          "scatter": [
           {
            "fillpattern": {
             "fillmode": "overlay",
             "size": 10,
             "solidity": 0.2
            },
            "type": "scatter"
           }
          ],
          "scatter3d": [
           {
            "line": {
             "colorbar": {
              "outlinewidth": 0,
              "ticks": ""
             }
            },
            "marker": {
             "colorbar": {
              "outlinewidth": 0,
              "ticks": ""
             }
            },
            "type": "scatter3d"
           }
          ],
          "scattercarpet": [
           {
            "marker": {
             "colorbar": {
              "outlinewidth": 0,
              "ticks": ""
             }
            },
            "type": "scattercarpet"
           }
          ],
          "scattergeo": [
           {
            "marker": {
             "colorbar": {
              "outlinewidth": 0,
              "ticks": ""
             }
            },
            "type": "scattergeo"
           }
          ],
          "scattergl": [
           {
            "marker": {
             "colorbar": {
              "outlinewidth": 0,
              "ticks": ""
             }
            },
            "type": "scattergl"
           }
          ],
          "scattermapbox": [
           {
            "marker": {
             "colorbar": {
              "outlinewidth": 0,
              "ticks": ""
             }
            },
            "type": "scattermapbox"
           }
          ],
          "scatterpolar": [
           {
            "marker": {
             "colorbar": {
              "outlinewidth": 0,
              "ticks": ""
             }
            },
            "type": "scatterpolar"
           }
          ],
          "scatterpolargl": [
           {
            "marker": {
             "colorbar": {
              "outlinewidth": 0,
              "ticks": ""
             }
            },
            "type": "scatterpolargl"
           }
          ],
          "scatterternary": [
           {
            "marker": {
             "colorbar": {
              "outlinewidth": 0,
              "ticks": ""
             }
            },
            "type": "scatterternary"
           }
          ],
          "surface": [
           {
            "colorbar": {
             "outlinewidth": 0,
             "ticks": ""
            },
            "colorscale": [
             [
              0,
              "#0d0887"
             ],
             [
              0.1111111111111111,
              "#46039f"
             ],
             [
              0.2222222222222222,
              "#7201a8"
             ],
             [
              0.3333333333333333,
              "#9c179e"
             ],
             [
              0.4444444444444444,
              "#bd3786"
             ],
             [
              0.5555555555555556,
              "#d8576b"
             ],
             [
              0.6666666666666666,
              "#ed7953"
             ],
             [
              0.7777777777777778,
              "#fb9f3a"
             ],
             [
              0.8888888888888888,
              "#fdca26"
             ],
             [
              1,
              "#f0f921"
             ]
            ],
            "type": "surface"
           }
          ],
          "table": [
           {
            "cells": {
             "fill": {
              "color": "#EBF0F8"
             },
             "line": {
              "color": "white"
             }
            },
            "header": {
             "fill": {
              "color": "#C8D4E3"
             },
             "line": {
              "color": "white"
             }
            },
            "type": "table"
           }
          ]
         },
         "layout": {
          "annotationdefaults": {
           "arrowcolor": "#2a3f5f",
           "arrowhead": 0,
           "arrowwidth": 1
          },
          "autotypenumbers": "strict",
          "coloraxis": {
           "colorbar": {
            "outlinewidth": 0,
            "ticks": ""
           }
          },
          "colorscale": {
           "diverging": [
            [
             0,
             "#8e0152"
            ],
            [
             0.1,
             "#c51b7d"
            ],
            [
             0.2,
             "#de77ae"
            ],
            [
             0.3,
             "#f1b6da"
            ],
            [
             0.4,
             "#fde0ef"
            ],
            [
             0.5,
             "#f7f7f7"
            ],
            [
             0.6,
             "#e6f5d0"
            ],
            [
             0.7,
             "#b8e186"
            ],
            [
             0.8,
             "#7fbc41"
            ],
            [
             0.9,
             "#4d9221"
            ],
            [
             1,
             "#276419"
            ]
           ],
           "sequential": [
            [
             0,
             "#0d0887"
            ],
            [
             0.1111111111111111,
             "#46039f"
            ],
            [
             0.2222222222222222,
             "#7201a8"
            ],
            [
             0.3333333333333333,
             "#9c179e"
            ],
            [
             0.4444444444444444,
             "#bd3786"
            ],
            [
             0.5555555555555556,
             "#d8576b"
            ],
            [
             0.6666666666666666,
             "#ed7953"
            ],
            [
             0.7777777777777778,
             "#fb9f3a"
            ],
            [
             0.8888888888888888,
             "#fdca26"
            ],
            [
             1,
             "#f0f921"
            ]
           ],
           "sequentialminus": [
            [
             0,
             "#0d0887"
            ],
            [
             0.1111111111111111,
             "#46039f"
            ],
            [
             0.2222222222222222,
             "#7201a8"
            ],
            [
             0.3333333333333333,
             "#9c179e"
            ],
            [
             0.4444444444444444,
             "#bd3786"
            ],
            [
             0.5555555555555556,
             "#d8576b"
            ],
            [
             0.6666666666666666,
             "#ed7953"
            ],
            [
             0.7777777777777778,
             "#fb9f3a"
            ],
            [
             0.8888888888888888,
             "#fdca26"
            ],
            [
             1,
             "#f0f921"
            ]
           ]
          },
          "colorway": [
           "#636efa",
           "#EF553B",
           "#00cc96",
           "#ab63fa",
           "#FFA15A",
           "#19d3f3",
           "#FF6692",
           "#B6E880",
           "#FF97FF",
           "#FECB52"
          ],
          "font": {
           "color": "#2a3f5f"
          },
          "geo": {
           "bgcolor": "white",
           "lakecolor": "white",
           "landcolor": "#E5ECF6",
           "showlakes": true,
           "showland": true,
           "subunitcolor": "white"
          },
          "hoverlabel": {
           "align": "left"
          },
          "hovermode": "closest",
          "mapbox": {
           "style": "light"
          },
          "paper_bgcolor": "white",
          "plot_bgcolor": "#E5ECF6",
          "polar": {
           "angularaxis": {
            "gridcolor": "white",
            "linecolor": "white",
            "ticks": ""
           },
           "bgcolor": "#E5ECF6",
           "radialaxis": {
            "gridcolor": "white",
            "linecolor": "white",
            "ticks": ""
           }
          },
          "scene": {
           "xaxis": {
            "backgroundcolor": "#E5ECF6",
            "gridcolor": "white",
            "gridwidth": 2,
            "linecolor": "white",
            "showbackground": true,
            "ticks": "",
            "zerolinecolor": "white"
           },
           "yaxis": {
            "backgroundcolor": "#E5ECF6",
            "gridcolor": "white",
            "gridwidth": 2,
            "linecolor": "white",
            "showbackground": true,
            "ticks": "",
            "zerolinecolor": "white"
           },
           "zaxis": {
            "backgroundcolor": "#E5ECF6",
            "gridcolor": "white",
            "gridwidth": 2,
            "linecolor": "white",
            "showbackground": true,
            "ticks": "",
            "zerolinecolor": "white"
           }
          },
          "shapedefaults": {
           "line": {
            "color": "#2a3f5f"
           }
          },
          "ternary": {
           "aaxis": {
            "gridcolor": "white",
            "linecolor": "white",
            "ticks": ""
           },
           "baxis": {
            "gridcolor": "white",
            "linecolor": "white",
            "ticks": ""
           },
           "bgcolor": "#E5ECF6",
           "caxis": {
            "gridcolor": "white",
            "linecolor": "white",
            "ticks": ""
           }
          },
          "title": {
           "x": 0.05
          },
          "xaxis": {
           "automargin": true,
           "gridcolor": "white",
           "linecolor": "white",
           "ticks": "",
           "title": {
            "standoff": 15
           },
           "zerolinecolor": "white",
           "zerolinewidth": 2
          },
          "yaxis": {
           "automargin": true,
           "gridcolor": "white",
           "linecolor": "white",
           "ticks": "",
           "title": {
            "standoff": 15
           },
           "zerolinecolor": "white",
           "zerolinewidth": 2
          }
         }
        },
        "title": {
         "text": "Relacion del estado de la venta con la plusvalia"
        },
        "xaxis": {
         "anchor": "y",
         "domain": [
          0,
          1
         ],
         "title": {
          "text": "Estado_Venta"
         }
        },
        "yaxis": {
         "anchor": "x",
         "domain": [
          0,
          1
         ],
         "title": {
          "text": "Plusvalía_%_Anual"
         }
        }
       }
      }
     },
     "metadata": {},
     "output_type": "display_data"
    }
   ],
   "source": [
    "figura0 = pl.bar(df_Inmob,x='Estado_Venta', y= 'Plusvalía_%_Anual', color= 'Ciudad', title= 'Relacion del estado de la venta con la plusvalia',)\n",
    "figura0.show()"
   ]
  },
  {
   "cell_type": "code",
   "execution_count": 23,
   "id": "11e86074",
   "metadata": {},
   "outputs": [
    {
     "data": {
      "application/vnd.plotly.v1+json": {
       "config": {
        "plotlyServerURL": "https://plot.ly"
       },
       "data": [
        {
         "alignmentgroup": "True",
         "hovertemplate": "Ciudad=Guadalajara<br>Estado_Venta=%{x}<br>Precio_Venta=%{text}<extra></extra>",
         "legendgroup": "Guadalajara",
         "marker": {
          "color": "#636efa",
          "pattern": {
           "shape": ""
          }
         },
         "name": "Guadalajara",
         "offsetgroup": "Guadalajara",
         "orientation": "v",
         "showlegend": true,
         "text": [
          7991267
         ],
         "textposition": "auto",
         "type": "bar",
         "x": [
          "En proceso"
         ],
         "xaxis": "x",
         "y": [
          7991267
         ],
         "yaxis": "y"
        },
        {
         "alignmentgroup": "True",
         "hovertemplate": "Ciudad=Tijuana<br>Estado_Venta=%{x}<br>Precio_Venta=%{text}<extra></extra>",
         "legendgroup": "Tijuana",
         "marker": {
          "color": "#EF553B",
          "pattern": {
           "shape": ""
          }
         },
         "name": "Tijuana",
         "offsetgroup": "Tijuana",
         "orientation": "v",
         "showlegend": true,
         "text": [
          7986373,
          7954088
         ],
         "textposition": "auto",
         "type": "bar",
         "x": [
          "Cancelada",
          "Vendida"
         ],
         "xaxis": "x",
         "y": [
          7986373,
          7954088
         ],
         "yaxis": "y"
        },
        {
         "alignmentgroup": "True",
         "hovertemplate": "Ciudad=Monterrey<br>Estado_Venta=%{x}<br>Precio_Venta=%{text}<extra></extra>",
         "legendgroup": "Monterrey",
         "marker": {
          "color": "#00cc96",
          "pattern": {
           "shape": ""
          }
         },
         "name": "Monterrey",
         "offsetgroup": "Monterrey",
         "orientation": "v",
         "showlegend": true,
         "text": [
          7981795,
          7951055
         ],
         "textposition": "auto",
         "type": "bar",
         "x": [
          "Cancelada",
          "En proceso"
         ],
         "xaxis": "x",
         "y": [
          7981795,
          7951055
         ],
         "yaxis": "y"
        },
        {
         "alignmentgroup": "True",
         "hovertemplate": "Ciudad=Querétaro<br>Estado_Venta=%{x}<br>Precio_Venta=%{text}<extra></extra>",
         "legendgroup": "Querétaro",
         "marker": {
          "color": "#ab63fa",
          "pattern": {
           "shape": ""
          }
         },
         "name": "Querétaro",
         "offsetgroup": "Querétaro",
         "orientation": "v",
         "showlegend": true,
         "text": [
          7957777
         ],
         "textposition": "auto",
         "type": "bar",
         "x": [
          "Vendida"
         ],
         "xaxis": "x",
         "y": [
          7957777
         ],
         "yaxis": "y"
        },
        {
         "alignmentgroup": "True",
         "hovertemplate": "Ciudad=León<br>Estado_Venta=%{x}<br>Precio_Venta=%{text}<extra></extra>",
         "legendgroup": "León",
         "marker": {
          "color": "#FFA15A",
          "pattern": {
           "shape": ""
          }
         },
         "name": "León",
         "offsetgroup": "León",
         "orientation": "v",
         "showlegend": true,
         "text": [
          7937678,
          7895401
         ],
         "textposition": "auto",
         "type": "bar",
         "x": [
          "Cancelada",
          "Cancelada"
         ],
         "xaxis": "x",
         "y": [
          7937678,
          7895401
         ],
         "yaxis": "y"
        },
        {
         "alignmentgroup": "True",
         "hovertemplate": "Ciudad=Mérida<br>Estado_Venta=%{x}<br>Precio_Venta=%{text}<extra></extra>",
         "legendgroup": "Mérida",
         "marker": {
          "color": "#19d3f3",
          "pattern": {
           "shape": ""
          }
         },
         "name": "Mérida",
         "offsetgroup": "Mérida",
         "orientation": "v",
         "showlegend": true,
         "text": [
          7924549
         ],
         "textposition": "auto",
         "type": "bar",
         "x": [
          "Vendida"
         ],
         "xaxis": "x",
         "y": [
          7924549
         ],
         "yaxis": "y"
        },
        {
         "alignmentgroup": "True",
         "hovertemplate": "Ciudad=Cancún<br>Estado_Venta=%{x}<br>Precio_Venta=%{text}<extra></extra>",
         "legendgroup": "Cancún",
         "marker": {
          "color": "#FF6692",
          "pattern": {
           "shape": ""
          }
         },
         "name": "Cancún",
         "offsetgroup": "Cancún",
         "orientation": "v",
         "showlegend": true,
         "text": [
          7872925,
          7859228
         ],
         "textposition": "auto",
         "type": "bar",
         "x": [
          "En proceso",
          "En proceso"
         ],
         "xaxis": "x",
         "y": [
          7872925,
          7859228
         ],
         "yaxis": "y"
        }
       ],
       "layout": {
        "barmode": "relative",
        "legend": {
         "title": {
          "text": "Ciudad"
         },
         "tracegroupgap": 0
        },
        "template": {
         "data": {
          "bar": [
           {
            "error_x": {
             "color": "#2a3f5f"
            },
            "error_y": {
             "color": "#2a3f5f"
            },
            "marker": {
             "line": {
              "color": "#E5ECF6",
              "width": 0.5
             },
             "pattern": {
              "fillmode": "overlay",
              "size": 10,
              "solidity": 0.2
             }
            },
            "type": "bar"
           }
          ],
          "barpolar": [
           {
            "marker": {
             "line": {
              "color": "#E5ECF6",
              "width": 0.5
             },
             "pattern": {
              "fillmode": "overlay",
              "size": 10,
              "solidity": 0.2
             }
            },
            "type": "barpolar"
           }
          ],
          "carpet": [
           {
            "aaxis": {
             "endlinecolor": "#2a3f5f",
             "gridcolor": "white",
             "linecolor": "white",
             "minorgridcolor": "white",
             "startlinecolor": "#2a3f5f"
            },
            "baxis": {
             "endlinecolor": "#2a3f5f",
             "gridcolor": "white",
             "linecolor": "white",
             "minorgridcolor": "white",
             "startlinecolor": "#2a3f5f"
            },
            "type": "carpet"
           }
          ],
          "choropleth": [
           {
            "colorbar": {
             "outlinewidth": 0,
             "ticks": ""
            },
            "type": "choropleth"
           }
          ],
          "contour": [
           {
            "colorbar": {
             "outlinewidth": 0,
             "ticks": ""
            },
            "colorscale": [
             [
              0,
              "#0d0887"
             ],
             [
              0.1111111111111111,
              "#46039f"
             ],
             [
              0.2222222222222222,
              "#7201a8"
             ],
             [
              0.3333333333333333,
              "#9c179e"
             ],
             [
              0.4444444444444444,
              "#bd3786"
             ],
             [
              0.5555555555555556,
              "#d8576b"
             ],
             [
              0.6666666666666666,
              "#ed7953"
             ],
             [
              0.7777777777777778,
              "#fb9f3a"
             ],
             [
              0.8888888888888888,
              "#fdca26"
             ],
             [
              1,
              "#f0f921"
             ]
            ],
            "type": "contour"
           }
          ],
          "contourcarpet": [
           {
            "colorbar": {
             "outlinewidth": 0,
             "ticks": ""
            },
            "type": "contourcarpet"
           }
          ],
          "heatmap": [
           {
            "colorbar": {
             "outlinewidth": 0,
             "ticks": ""
            },
            "colorscale": [
             [
              0,
              "#0d0887"
             ],
             [
              0.1111111111111111,
              "#46039f"
             ],
             [
              0.2222222222222222,
              "#7201a8"
             ],
             [
              0.3333333333333333,
              "#9c179e"
             ],
             [
              0.4444444444444444,
              "#bd3786"
             ],
             [
              0.5555555555555556,
              "#d8576b"
             ],
             [
              0.6666666666666666,
              "#ed7953"
             ],
             [
              0.7777777777777778,
              "#fb9f3a"
             ],
             [
              0.8888888888888888,
              "#fdca26"
             ],
             [
              1,
              "#f0f921"
             ]
            ],
            "type": "heatmap"
           }
          ],
          "heatmapgl": [
           {
            "colorbar": {
             "outlinewidth": 0,
             "ticks": ""
            },
            "colorscale": [
             [
              0,
              "#0d0887"
             ],
             [
              0.1111111111111111,
              "#46039f"
             ],
             [
              0.2222222222222222,
              "#7201a8"
             ],
             [
              0.3333333333333333,
              "#9c179e"
             ],
             [
              0.4444444444444444,
              "#bd3786"
             ],
             [
              0.5555555555555556,
              "#d8576b"
             ],
             [
              0.6666666666666666,
              "#ed7953"
             ],
             [
              0.7777777777777778,
              "#fb9f3a"
             ],
             [
              0.8888888888888888,
              "#fdca26"
             ],
             [
              1,
              "#f0f921"
             ]
            ],
            "type": "heatmapgl"
           }
          ],
          "histogram": [
           {
            "marker": {
             "pattern": {
              "fillmode": "overlay",
              "size": 10,
              "solidity": 0.2
             }
            },
            "type": "histogram"
           }
          ],
          "histogram2d": [
           {
            "colorbar": {
             "outlinewidth": 0,
             "ticks": ""
            },
            "colorscale": [
             [
              0,
              "#0d0887"
             ],
             [
              0.1111111111111111,
              "#46039f"
             ],
             [
              0.2222222222222222,
              "#7201a8"
             ],
             [
              0.3333333333333333,
              "#9c179e"
             ],
             [
              0.4444444444444444,
              "#bd3786"
             ],
             [
              0.5555555555555556,
              "#d8576b"
             ],
             [
              0.6666666666666666,
              "#ed7953"
             ],
             [
              0.7777777777777778,
              "#fb9f3a"
             ],
             [
              0.8888888888888888,
              "#fdca26"
             ],
             [
              1,
              "#f0f921"
             ]
            ],
            "type": "histogram2d"
           }
          ],
          "histogram2dcontour": [
           {
            "colorbar": {
             "outlinewidth": 0,
             "ticks": ""
            },
            "colorscale": [
             [
              0,
              "#0d0887"
             ],
             [
              0.1111111111111111,
              "#46039f"
             ],
             [
              0.2222222222222222,
              "#7201a8"
             ],
             [
              0.3333333333333333,
              "#9c179e"
             ],
             [
              0.4444444444444444,
              "#bd3786"
             ],
             [
              0.5555555555555556,
              "#d8576b"
             ],
             [
              0.6666666666666666,
              "#ed7953"
             ],
             [
              0.7777777777777778,
              "#fb9f3a"
             ],
             [
              0.8888888888888888,
              "#fdca26"
             ],
             [
              1,
              "#f0f921"
             ]
            ],
            "type": "histogram2dcontour"
           }
          ],
          "mesh3d": [
           {
            "colorbar": {
             "outlinewidth": 0,
             "ticks": ""
            },
            "type": "mesh3d"
           }
          ],
          "parcoords": [
           {
            "line": {
             "colorbar": {
              "outlinewidth": 0,
              "ticks": ""
             }
            },
            "type": "parcoords"
           }
          ],
          "pie": [
           {
            "automargin": true,
            "type": "pie"
           }
          ],
          "scatter": [
           {
            "fillpattern": {
             "fillmode": "overlay",
             "size": 10,
             "solidity": 0.2
            },
            "type": "scatter"
           }
          ],
          "scatter3d": [
           {
            "line": {
             "colorbar": {
              "outlinewidth": 0,
              "ticks": ""
             }
            },
            "marker": {
             "colorbar": {
              "outlinewidth": 0,
              "ticks": ""
             }
            },
            "type": "scatter3d"
           }
          ],
          "scattercarpet": [
           {
            "marker": {
             "colorbar": {
              "outlinewidth": 0,
              "ticks": ""
             }
            },
            "type": "scattercarpet"
           }
          ],
          "scattergeo": [
           {
            "marker": {
             "colorbar": {
              "outlinewidth": 0,
              "ticks": ""
             }
            },
            "type": "scattergeo"
           }
          ],
          "scattergl": [
           {
            "marker": {
             "colorbar": {
              "outlinewidth": 0,
              "ticks": ""
             }
            },
            "type": "scattergl"
           }
          ],
          "scattermapbox": [
           {
            "marker": {
             "colorbar": {
              "outlinewidth": 0,
              "ticks": ""
             }
            },
            "type": "scattermapbox"
           }
          ],
          "scatterpolar": [
           {
            "marker": {
             "colorbar": {
              "outlinewidth": 0,
              "ticks": ""
             }
            },
            "type": "scatterpolar"
           }
          ],
          "scatterpolargl": [
           {
            "marker": {
             "colorbar": {
              "outlinewidth": 0,
              "ticks": ""
             }
            },
            "type": "scatterpolargl"
           }
          ],
          "scatterternary": [
           {
            "marker": {
             "colorbar": {
              "outlinewidth": 0,
              "ticks": ""
             }
            },
            "type": "scatterternary"
           }
          ],
          "surface": [
           {
            "colorbar": {
             "outlinewidth": 0,
             "ticks": ""
            },
            "colorscale": [
             [
              0,
              "#0d0887"
             ],
             [
              0.1111111111111111,
              "#46039f"
             ],
             [
              0.2222222222222222,
              "#7201a8"
             ],
             [
              0.3333333333333333,
              "#9c179e"
             ],
             [
              0.4444444444444444,
              "#bd3786"
             ],
             [
              0.5555555555555556,
              "#d8576b"
             ],
             [
              0.6666666666666666,
              "#ed7953"
             ],
             [
              0.7777777777777778,
              "#fb9f3a"
             ],
             [
              0.8888888888888888,
              "#fdca26"
             ],
             [
              1,
              "#f0f921"
             ]
            ],
            "type": "surface"
           }
          ],
          "table": [
           {
            "cells": {
             "fill": {
              "color": "#EBF0F8"
             },
             "line": {
              "color": "white"
             }
            },
            "header": {
             "fill": {
              "color": "#C8D4E3"
             },
             "line": {
              "color": "white"
             }
            },
            "type": "table"
           }
          ]
         },
         "layout": {
          "annotationdefaults": {
           "arrowcolor": "#2a3f5f",
           "arrowhead": 0,
           "arrowwidth": 1
          },
          "autotypenumbers": "strict",
          "coloraxis": {
           "colorbar": {
            "outlinewidth": 0,
            "ticks": ""
           }
          },
          "colorscale": {
           "diverging": [
            [
             0,
             "#8e0152"
            ],
            [
             0.1,
             "#c51b7d"
            ],
            [
             0.2,
             "#de77ae"
            ],
            [
             0.3,
             "#f1b6da"
            ],
            [
             0.4,
             "#fde0ef"
            ],
            [
             0.5,
             "#f7f7f7"
            ],
            [
             0.6,
             "#e6f5d0"
            ],
            [
             0.7,
             "#b8e186"
            ],
            [
             0.8,
             "#7fbc41"
            ],
            [
             0.9,
             "#4d9221"
            ],
            [
             1,
             "#276419"
            ]
           ],
           "sequential": [
            [
             0,
             "#0d0887"
            ],
            [
             0.1111111111111111,
             "#46039f"
            ],
            [
             0.2222222222222222,
             "#7201a8"
            ],
            [
             0.3333333333333333,
             "#9c179e"
            ],
            [
             0.4444444444444444,
             "#bd3786"
            ],
            [
             0.5555555555555556,
             "#d8576b"
            ],
            [
             0.6666666666666666,
             "#ed7953"
            ],
            [
             0.7777777777777778,
             "#fb9f3a"
            ],
            [
             0.8888888888888888,
             "#fdca26"
            ],
            [
             1,
             "#f0f921"
            ]
           ],
           "sequentialminus": [
            [
             0,
             "#0d0887"
            ],
            [
             0.1111111111111111,
             "#46039f"
            ],
            [
             0.2222222222222222,
             "#7201a8"
            ],
            [
             0.3333333333333333,
             "#9c179e"
            ],
            [
             0.4444444444444444,
             "#bd3786"
            ],
            [
             0.5555555555555556,
             "#d8576b"
            ],
            [
             0.6666666666666666,
             "#ed7953"
            ],
            [
             0.7777777777777778,
             "#fb9f3a"
            ],
            [
             0.8888888888888888,
             "#fdca26"
            ],
            [
             1,
             "#f0f921"
            ]
           ]
          },
          "colorway": [
           "#636efa",
           "#EF553B",
           "#00cc96",
           "#ab63fa",
           "#FFA15A",
           "#19d3f3",
           "#FF6692",
           "#B6E880",
           "#FF97FF",
           "#FECB52"
          ],
          "font": {
           "color": "#2a3f5f"
          },
          "geo": {
           "bgcolor": "white",
           "lakecolor": "white",
           "landcolor": "#E5ECF6",
           "showlakes": true,
           "showland": true,
           "subunitcolor": "white"
          },
          "hoverlabel": {
           "align": "left"
          },
          "hovermode": "closest",
          "mapbox": {
           "style": "light"
          },
          "paper_bgcolor": "white",
          "plot_bgcolor": "#E5ECF6",
          "polar": {
           "angularaxis": {
            "gridcolor": "white",
            "linecolor": "white",
            "ticks": ""
           },
           "bgcolor": "#E5ECF6",
           "radialaxis": {
            "gridcolor": "white",
            "linecolor": "white",
            "ticks": ""
           }
          },
          "scene": {
           "xaxis": {
            "backgroundcolor": "#E5ECF6",
            "gridcolor": "white",
            "gridwidth": 2,
            "linecolor": "white",
            "showbackground": true,
            "ticks": "",
            "zerolinecolor": "white"
           },
           "yaxis": {
            "backgroundcolor": "#E5ECF6",
            "gridcolor": "white",
            "gridwidth": 2,
            "linecolor": "white",
            "showbackground": true,
            "ticks": "",
            "zerolinecolor": "white"
           },
           "zaxis": {
            "backgroundcolor": "#E5ECF6",
            "gridcolor": "white",
            "gridwidth": 2,
            "linecolor": "white",
            "showbackground": true,
            "ticks": "",
            "zerolinecolor": "white"
           }
          },
          "shapedefaults": {
           "line": {
            "color": "#2a3f5f"
           }
          },
          "ternary": {
           "aaxis": {
            "gridcolor": "white",
            "linecolor": "white",
            "ticks": ""
           },
           "baxis": {
            "gridcolor": "white",
            "linecolor": "white",
            "ticks": ""
           },
           "bgcolor": "#E5ECF6",
           "caxis": {
            "gridcolor": "white",
            "linecolor": "white",
            "ticks": ""
           }
          },
          "title": {
           "x": 0.05
          },
          "xaxis": {
           "automargin": true,
           "gridcolor": "white",
           "linecolor": "white",
           "ticks": "",
           "title": {
            "standoff": 15
           },
           "zerolinecolor": "white",
           "zerolinewidth": 2
          },
          "yaxis": {
           "automargin": true,
           "gridcolor": "white",
           "linecolor": "white",
           "ticks": "",
           "title": {
            "standoff": 15
           },
           "zerolinecolor": "white",
           "zerolinewidth": 2
          }
         }
        },
        "title": {
         "text": "Relacion del estado de la venta con la plusvalia"
        },
        "xaxis": {
         "anchor": "y",
         "domain": [
          0,
          1
         ],
         "title": {
          "text": "Estado_Venta"
         }
        },
        "yaxis": {
         "anchor": "x",
         "domain": [
          0,
          1
         ],
         "title": {
          "text": "Precio_Venta"
         }
        }
       }
      }
     },
     "metadata": {},
     "output_type": "display_data"
    }
   ],
   "source": [
    "figura2 = pl.bar(df_mascaro,x='Estado_Venta', y= 'Precio_Venta', color= 'Ciudad', title= 'Relacion del estado de la venta con la plusvalia', text='Precio_Venta')\n",
    "figura2.show()"
   ]
  },
  {
   "cell_type": "code",
   "execution_count": 25,
   "id": "7fba3bf7",
   "metadata": {},
   "outputs": [
    {
     "data": {
      "text/plain": [
       "Monterrey           60\n",
       "Mérida              56\n",
       "León                52\n",
       "Chihuahua           52\n",
       "Querétaro           52\n",
       "Ciudad de México    49\n",
       "Puebla              48\n",
       "Tijuana             46\n",
       "Cancún              43\n",
       "Guadalajara         42\n",
       "Name: Ciudad, dtype: int64"
      ]
     },
     "execution_count": 25,
     "metadata": {},
     "output_type": "execute_result"
    }
   ],
   "source": [
    "df_Inmob['Ciudad'].value_counts()"
   ]
  },
  {
   "cell_type": "code",
   "execution_count": 28,
   "id": "af80b02a",
   "metadata": {},
   "outputs": [
    {
     "data": {
      "text/html": [
       "<div>\n",
       "<style scoped>\n",
       "    .dataframe tbody tr th:only-of-type {\n",
       "        vertical-align: middle;\n",
       "    }\n",
       "\n",
       "    .dataframe tbody tr th {\n",
       "        vertical-align: top;\n",
       "    }\n",
       "\n",
       "    .dataframe thead th {\n",
       "        text-align: right;\n",
       "    }\n",
       "</style>\n",
       "<table border=\"1\" class=\"dataframe\">\n",
       "  <thead>\n",
       "    <tr style=\"text-align: right;\">\n",
       "      <th></th>\n",
       "      <th>ID_Propiedad</th>\n",
       "      <th>Fecha_Venta</th>\n",
       "      <th>Ciudad</th>\n",
       "      <th>Estado</th>\n",
       "      <th>Tipo_Propiedad</th>\n",
       "      <th>Metros_Cuadrados</th>\n",
       "      <th>Habitaciones</th>\n",
       "      <th>Baños</th>\n",
       "      <th>Año_Construcción</th>\n",
       "      <th>Precio_Venta</th>\n",
       "      <th>Agente_Inmobiliario</th>\n",
       "      <th>Comisión_%</th>\n",
       "      <th>Método_Pago</th>\n",
       "      <th>Estado_Venta</th>\n",
       "      <th>Vista_Al_Lago</th>\n",
       "      <th>Estacionamiento</th>\n",
       "      <th>Plusvalía_%_Anual</th>\n",
       "    </tr>\n",
       "  </thead>\n",
       "  <tbody>\n",
       "    <tr>\n",
       "      <th>5</th>\n",
       "      <td>6</td>\n",
       "      <td>2018-07-28</td>\n",
       "      <td>Monterrey</td>\n",
       "      <td>Nuevo León</td>\n",
       "      <td>Local</td>\n",
       "      <td>280</td>\n",
       "      <td>4</td>\n",
       "      <td>4</td>\n",
       "      <td>1988</td>\n",
       "      <td>7330864</td>\n",
       "      <td>Pedro Torres</td>\n",
       "      <td>5.49</td>\n",
       "      <td>FOVISSSTE</td>\n",
       "      <td>Vendida</td>\n",
       "      <td>No</td>\n",
       "      <td>3</td>\n",
       "      <td>6.03</td>\n",
       "    </tr>\n",
       "    <tr>\n",
       "      <th>15</th>\n",
       "      <td>16</td>\n",
       "      <td>2015-10-06</td>\n",
       "      <td>Monterrey</td>\n",
       "      <td>Nuevo León</td>\n",
       "      <td>Casa</td>\n",
       "      <td>384</td>\n",
       "      <td>2</td>\n",
       "      <td>3</td>\n",
       "      <td>2011</td>\n",
       "      <td>2856601</td>\n",
       "      <td>José Martínez</td>\n",
       "      <td>3.23</td>\n",
       "      <td>FOVISSSTE</td>\n",
       "      <td>En proceso</td>\n",
       "      <td>No</td>\n",
       "      <td>0</td>\n",
       "      <td>7.99</td>\n",
       "    </tr>\n",
       "    <tr>\n",
       "      <th>20</th>\n",
       "      <td>21</td>\n",
       "      <td>2004-08-28</td>\n",
       "      <td>Monterrey</td>\n",
       "      <td>Nuevo León</td>\n",
       "      <td>Casa</td>\n",
       "      <td>107</td>\n",
       "      <td>6</td>\n",
       "      <td>1</td>\n",
       "      <td>1981</td>\n",
       "      <td>6842339</td>\n",
       "      <td>Ana Rodríguez</td>\n",
       "      <td>2.70</td>\n",
       "      <td>Contado</td>\n",
       "      <td>Vendida</td>\n",
       "      <td>Sí</td>\n",
       "      <td>3</td>\n",
       "      <td>4.97</td>\n",
       "    </tr>\n",
       "    <tr>\n",
       "      <th>34</th>\n",
       "      <td>35</td>\n",
       "      <td>2009-06-13</td>\n",
       "      <td>Monterrey</td>\n",
       "      <td>Nuevo León</td>\n",
       "      <td>Oficina</td>\n",
       "      <td>328</td>\n",
       "      <td>1</td>\n",
       "      <td>1</td>\n",
       "      <td>1987</td>\n",
       "      <td>5222608</td>\n",
       "      <td>José Martínez</td>\n",
       "      <td>6.93</td>\n",
       "      <td>Crédito hipotecario</td>\n",
       "      <td>Vendida</td>\n",
       "      <td>Sí</td>\n",
       "      <td>3</td>\n",
       "      <td>1.92</td>\n",
       "    </tr>\n",
       "    <tr>\n",
       "      <th>45</th>\n",
       "      <td>46</td>\n",
       "      <td>2000-06-27</td>\n",
       "      <td>Monterrey</td>\n",
       "      <td>Nuevo León</td>\n",
       "      <td>Terreno</td>\n",
       "      <td>265</td>\n",
       "      <td>2</td>\n",
       "      <td>3</td>\n",
       "      <td>1989</td>\n",
       "      <td>737270</td>\n",
       "      <td>Sofía Vargas</td>\n",
       "      <td>4.90</td>\n",
       "      <td>Crédito hipotecario</td>\n",
       "      <td>Vendida</td>\n",
       "      <td>No</td>\n",
       "      <td>3</td>\n",
       "      <td>4.05</td>\n",
       "    </tr>\n",
       "    <tr>\n",
       "      <th>59</th>\n",
       "      <td>60</td>\n",
       "      <td>2022-07-26</td>\n",
       "      <td>Monterrey</td>\n",
       "      <td>Nuevo León</td>\n",
       "      <td>Casa</td>\n",
       "      <td>493</td>\n",
       "      <td>6</td>\n",
       "      <td>4</td>\n",
       "      <td>1991</td>\n",
       "      <td>5005803</td>\n",
       "      <td>Carlos Gómez</td>\n",
       "      <td>2.52</td>\n",
       "      <td>FOVISSSTE</td>\n",
       "      <td>Cancelada</td>\n",
       "      <td>No</td>\n",
       "      <td>3</td>\n",
       "      <td>9.81</td>\n",
       "    </tr>\n",
       "    <tr>\n",
       "      <th>63</th>\n",
       "      <td>64</td>\n",
       "      <td>2024-09-21</td>\n",
       "      <td>Monterrey</td>\n",
       "      <td>Nuevo León</td>\n",
       "      <td>Departamento</td>\n",
       "      <td>407</td>\n",
       "      <td>3</td>\n",
       "      <td>1</td>\n",
       "      <td>1974</td>\n",
       "      <td>5608277</td>\n",
       "      <td>María López</td>\n",
       "      <td>4.57</td>\n",
       "      <td>FOVISSSTE</td>\n",
       "      <td>Vendida</td>\n",
       "      <td>Sí</td>\n",
       "      <td>2</td>\n",
       "      <td>-0.88</td>\n",
       "    </tr>\n",
       "    <tr>\n",
       "      <th>65</th>\n",
       "      <td>66</td>\n",
       "      <td>2018-04-14</td>\n",
       "      <td>Monterrey</td>\n",
       "      <td>Nuevo León</td>\n",
       "      <td>Local</td>\n",
       "      <td>276</td>\n",
       "      <td>5</td>\n",
       "      <td>3</td>\n",
       "      <td>1988</td>\n",
       "      <td>6919545</td>\n",
       "      <td>Luis Hernández</td>\n",
       "      <td>6.52</td>\n",
       "      <td>FOVISSSTE</td>\n",
       "      <td>En proceso</td>\n",
       "      <td>No</td>\n",
       "      <td>2</td>\n",
       "      <td>-0.26</td>\n",
       "    </tr>\n",
       "    <tr>\n",
       "      <th>71</th>\n",
       "      <td>72</td>\n",
       "      <td>2010-10-02</td>\n",
       "      <td>Monterrey</td>\n",
       "      <td>Nuevo León</td>\n",
       "      <td>Local</td>\n",
       "      <td>392</td>\n",
       "      <td>2</td>\n",
       "      <td>4</td>\n",
       "      <td>1980</td>\n",
       "      <td>1014580</td>\n",
       "      <td>María López</td>\n",
       "      <td>3.26</td>\n",
       "      <td>INFONAVIT</td>\n",
       "      <td>Cancelada</td>\n",
       "      <td>No</td>\n",
       "      <td>0</td>\n",
       "      <td>9.72</td>\n",
       "    </tr>\n",
       "    <tr>\n",
       "      <th>74</th>\n",
       "      <td>75</td>\n",
       "      <td>2001-05-10</td>\n",
       "      <td>Monterrey</td>\n",
       "      <td>Nuevo León</td>\n",
       "      <td>Oficina</td>\n",
       "      <td>355</td>\n",
       "      <td>1</td>\n",
       "      <td>3</td>\n",
       "      <td>1976</td>\n",
       "      <td>4176556</td>\n",
       "      <td>Fernanda Díaz</td>\n",
       "      <td>5.90</td>\n",
       "      <td>INFONAVIT</td>\n",
       "      <td>Cancelada</td>\n",
       "      <td>No</td>\n",
       "      <td>0</td>\n",
       "      <td>2.62</td>\n",
       "    </tr>\n",
       "  </tbody>\n",
       "</table>\n",
       "</div>"
      ],
      "text/plain": [
       "    ID_Propiedad Fecha_Venta     Ciudad      Estado Tipo_Propiedad  \\\n",
       "5              6  2018-07-28  Monterrey  Nuevo León          Local   \n",
       "15            16  2015-10-06  Monterrey  Nuevo León           Casa   \n",
       "20            21  2004-08-28  Monterrey  Nuevo León           Casa   \n",
       "34            35  2009-06-13  Monterrey  Nuevo León        Oficina   \n",
       "45            46  2000-06-27  Monterrey  Nuevo León        Terreno   \n",
       "59            60  2022-07-26  Monterrey  Nuevo León           Casa   \n",
       "63            64  2024-09-21  Monterrey  Nuevo León   Departamento   \n",
       "65            66  2018-04-14  Monterrey  Nuevo León          Local   \n",
       "71            72  2010-10-02  Monterrey  Nuevo León          Local   \n",
       "74            75  2001-05-10  Monterrey  Nuevo León        Oficina   \n",
       "\n",
       "    Metros_Cuadrados  Habitaciones  Baños  Año_Construcción  Precio_Venta  \\\n",
       "5                280             4      4              1988       7330864   \n",
       "15               384             2      3              2011       2856601   \n",
       "20               107             6      1              1981       6842339   \n",
       "34               328             1      1              1987       5222608   \n",
       "45               265             2      3              1989        737270   \n",
       "59               493             6      4              1991       5005803   \n",
       "63               407             3      1              1974       5608277   \n",
       "65               276             5      3              1988       6919545   \n",
       "71               392             2      4              1980       1014580   \n",
       "74               355             1      3              1976       4176556   \n",
       "\n",
       "   Agente_Inmobiliario  Comisión_%          Método_Pago Estado_Venta  \\\n",
       "5         Pedro Torres        5.49            FOVISSSTE      Vendida   \n",
       "15       José Martínez        3.23            FOVISSSTE   En proceso   \n",
       "20       Ana Rodríguez        2.70              Contado      Vendida   \n",
       "34       José Martínez        6.93  Crédito hipotecario      Vendida   \n",
       "45        Sofía Vargas        4.90  Crédito hipotecario      Vendida   \n",
       "59        Carlos Gómez        2.52            FOVISSSTE    Cancelada   \n",
       "63         María López        4.57            FOVISSSTE      Vendida   \n",
       "65      Luis Hernández        6.52            FOVISSSTE   En proceso   \n",
       "71         María López        3.26            INFONAVIT    Cancelada   \n",
       "74       Fernanda Díaz        5.90            INFONAVIT    Cancelada   \n",
       "\n",
       "   Vista_Al_Lago  Estacionamiento  Plusvalía_%_Anual  \n",
       "5             No                3               6.03  \n",
       "15            No                0               7.99  \n",
       "20            Sí                3               4.97  \n",
       "34            Sí                3               1.92  \n",
       "45            No                3               4.05  \n",
       "59            No                3               9.81  \n",
       "63            Sí                2              -0.88  \n",
       "65            No                2              -0.26  \n",
       "71            No                0               9.72  \n",
       "74            No                0               2.62  "
      ]
     },
     "execution_count": 28,
     "metadata": {},
     "output_type": "execute_result"
    }
   ],
   "source": [
    "df_Inmob_regia=df_Inmob.loc[df_Inmob['Ciudad']== 'Monterrey']\n",
    "df_Inmob_regia[:10]"
   ]
  },
  {
   "cell_type": "code",
   "execution_count": 33,
   "id": "dae34fc9",
   "metadata": {},
   "outputs": [
    {
     "data": {
      "application/vnd.plotly.v1+json": {
       "config": {
        "plotlyServerURL": "https://plot.ly"
       },
       "data": [
        {
         "alignmentgroup": "True",
         "hovertemplate": "Tipo_Propiedad=Local<br>Estado_Venta=%{x}<br>Método_Pago=%{y}<extra></extra>",
         "legendgroup": "Local",
         "marker": {
          "color": "#636efa",
          "pattern": {
           "shape": ""
          }
         },
         "name": "Local",
         "offsetgroup": "Local",
         "orientation": "v",
         "showlegend": true,
         "textposition": "auto",
         "type": "bar",
         "x": [
          "Vendida",
          "En proceso",
          "Cancelada",
          "En proceso",
          "Cancelada",
          "En proceso",
          "En proceso",
          "En proceso",
          "En proceso",
          "Vendida",
          "Vendida",
          "Vendida",
          "Vendida",
          "Vendida"
         ],
         "xaxis": "x",
         "y": [
          "FOVISSSTE",
          "FOVISSSTE",
          "INFONAVIT",
          "Crédito hipotecario",
          "Crédito hipotecario",
          "Crédito hipotecario",
          "FOVISSSTE",
          "FOVISSSTE",
          "Contado",
          "FOVISSSTE",
          "FOVISSSTE",
          "Contado",
          "Contado",
          "Contado"
         ],
         "yaxis": "y"
        },
        {
         "alignmentgroup": "True",
         "hovertemplate": "Tipo_Propiedad=Casa<br>Estado_Venta=%{x}<br>Método_Pago=%{y}<extra></extra>",
         "legendgroup": "Casa",
         "marker": {
          "color": "#EF553B",
          "pattern": {
           "shape": ""
          }
         },
         "name": "Casa",
         "offsetgroup": "Casa",
         "orientation": "v",
         "showlegend": true,
         "textposition": "auto",
         "type": "bar",
         "x": [
          "En proceso",
          "Vendida",
          "Cancelada",
          "Vendida",
          "Vendida",
          "En proceso",
          "Cancelada",
          "Vendida",
          "Vendida",
          "Vendida",
          "En proceso"
         ],
         "xaxis": "x",
         "y": [
          "FOVISSSTE",
          "Contado",
          "FOVISSSTE",
          "FOVISSSTE",
          "Crédito hipotecario",
          "FOVISSSTE",
          "FOVISSSTE",
          "FOVISSSTE",
          "Crédito hipotecario",
          "Crédito hipotecario",
          "FOVISSSTE"
         ],
         "yaxis": "y"
        },
        {
         "alignmentgroup": "True",
         "hovertemplate": "Tipo_Propiedad=Oficina<br>Estado_Venta=%{x}<br>Método_Pago=%{y}<extra></extra>",
         "legendgroup": "Oficina",
         "marker": {
          "color": "#00cc96",
          "pattern": {
           "shape": ""
          }
         },
         "name": "Oficina",
         "offsetgroup": "Oficina",
         "orientation": "v",
         "showlegend": true,
         "textposition": "auto",
         "type": "bar",
         "x": [
          "Vendida",
          "Cancelada",
          "En proceso",
          "Vendida",
          "Vendida",
          "En proceso",
          "Vendida",
          "En proceso",
          "Cancelada",
          "En proceso",
          "En proceso",
          "Cancelada",
          "Cancelada",
          "Cancelada",
          "Cancelada",
          "Vendida",
          "En proceso",
          "En proceso",
          "En proceso",
          "En proceso"
         ],
         "xaxis": "x",
         "y": [
          "Crédito hipotecario",
          "INFONAVIT",
          "Contado",
          "INFONAVIT",
          "INFONAVIT",
          "Contado",
          "Crédito hipotecario",
          "INFONAVIT",
          "INFONAVIT",
          "FOVISSSTE",
          "Crédito hipotecario",
          "Crédito hipotecario",
          "Contado",
          "Crédito hipotecario",
          "INFONAVIT",
          "INFONAVIT",
          "FOVISSSTE",
          "Crédito hipotecario",
          "Crédito hipotecario",
          "Crédito hipotecario"
         ],
         "yaxis": "y"
        },
        {
         "alignmentgroup": "True",
         "hovertemplate": "Tipo_Propiedad=Terreno<br>Estado_Venta=%{x}<br>Método_Pago=%{y}<extra></extra>",
         "legendgroup": "Terreno",
         "marker": {
          "color": "#ab63fa",
          "pattern": {
           "shape": ""
          }
         },
         "name": "Terreno",
         "offsetgroup": "Terreno",
         "orientation": "v",
         "showlegend": true,
         "textposition": "auto",
         "type": "bar",
         "x": [
          "Vendida",
          "En proceso",
          "Vendida",
          "Vendida",
          "Cancelada",
          "Vendida",
          "En proceso",
          "Cancelada",
          "Cancelada"
         ],
         "xaxis": "x",
         "y": [
          "Crédito hipotecario",
          "Crédito hipotecario",
          "INFONAVIT",
          "FOVISSSTE",
          "FOVISSSTE",
          "FOVISSSTE",
          "Crédito hipotecario",
          "INFONAVIT",
          "Contado"
         ],
         "yaxis": "y"
        },
        {
         "alignmentgroup": "True",
         "hovertemplate": "Tipo_Propiedad=Departamento<br>Estado_Venta=%{x}<br>Método_Pago=%{y}<extra></extra>",
         "legendgroup": "Departamento",
         "marker": {
          "color": "#FFA15A",
          "pattern": {
           "shape": ""
          }
         },
         "name": "Departamento",
         "offsetgroup": "Departamento",
         "orientation": "v",
         "showlegend": true,
         "textposition": "auto",
         "type": "bar",
         "x": [
          "Vendida",
          "Cancelada",
          "Vendida",
          "Vendida",
          "Vendida",
          "En proceso"
         ],
         "xaxis": "x",
         "y": [
          "FOVISSSTE",
          "Crédito hipotecario",
          "Contado",
          "INFONAVIT",
          "Crédito hipotecario",
          "Contado"
         ],
         "yaxis": "y"
        }
       ],
       "layout": {
        "barmode": "relative",
        "legend": {
         "title": {
          "text": "Tipo_Propiedad"
         },
         "tracegroupgap": 0
        },
        "template": {
         "data": {
          "bar": [
           {
            "error_x": {
             "color": "#2a3f5f"
            },
            "error_y": {
             "color": "#2a3f5f"
            },
            "marker": {
             "line": {
              "color": "#E5ECF6",
              "width": 0.5
             },
             "pattern": {
              "fillmode": "overlay",
              "size": 10,
              "solidity": 0.2
             }
            },
            "type": "bar"
           }
          ],
          "barpolar": [
           {
            "marker": {
             "line": {
              "color": "#E5ECF6",
              "width": 0.5
             },
             "pattern": {
              "fillmode": "overlay",
              "size": 10,
              "solidity": 0.2
             }
            },
            "type": "barpolar"
           }
          ],
          "carpet": [
           {
            "aaxis": {
             "endlinecolor": "#2a3f5f",
             "gridcolor": "white",
             "linecolor": "white",
             "minorgridcolor": "white",
             "startlinecolor": "#2a3f5f"
            },
            "baxis": {
             "endlinecolor": "#2a3f5f",
             "gridcolor": "white",
             "linecolor": "white",
             "minorgridcolor": "white",
             "startlinecolor": "#2a3f5f"
            },
            "type": "carpet"
           }
          ],
          "choropleth": [
           {
            "colorbar": {
             "outlinewidth": 0,
             "ticks": ""
            },
            "type": "choropleth"
           }
          ],
          "contour": [
           {
            "colorbar": {
             "outlinewidth": 0,
             "ticks": ""
            },
            "colorscale": [
             [
              0,
              "#0d0887"
             ],
             [
              0.1111111111111111,
              "#46039f"
             ],
             [
              0.2222222222222222,
              "#7201a8"
             ],
             [
              0.3333333333333333,
              "#9c179e"
             ],
             [
              0.4444444444444444,
              "#bd3786"
             ],
             [
              0.5555555555555556,
              "#d8576b"
             ],
             [
              0.6666666666666666,
              "#ed7953"
             ],
             [
              0.7777777777777778,
              "#fb9f3a"
             ],
             [
              0.8888888888888888,
              "#fdca26"
             ],
             [
              1,
              "#f0f921"
             ]
            ],
            "type": "contour"
           }
          ],
          "contourcarpet": [
           {
            "colorbar": {
             "outlinewidth": 0,
             "ticks": ""
            },
            "type": "contourcarpet"
           }
          ],
          "heatmap": [
           {
            "colorbar": {
             "outlinewidth": 0,
             "ticks": ""
            },
            "colorscale": [
             [
              0,
              "#0d0887"
             ],
             [
              0.1111111111111111,
              "#46039f"
             ],
             [
              0.2222222222222222,
              "#7201a8"
             ],
             [
              0.3333333333333333,
              "#9c179e"
             ],
             [
              0.4444444444444444,
              "#bd3786"
             ],
             [
              0.5555555555555556,
              "#d8576b"
             ],
             [
              0.6666666666666666,
              "#ed7953"
             ],
             [
              0.7777777777777778,
              "#fb9f3a"
             ],
             [
              0.8888888888888888,
              "#fdca26"
             ],
             [
              1,
              "#f0f921"
             ]
            ],
            "type": "heatmap"
           }
          ],
          "heatmapgl": [
           {
            "colorbar": {
             "outlinewidth": 0,
             "ticks": ""
            },
            "colorscale": [
             [
              0,
              "#0d0887"
             ],
             [
              0.1111111111111111,
              "#46039f"
             ],
             [
              0.2222222222222222,
              "#7201a8"
             ],
             [
              0.3333333333333333,
              "#9c179e"
             ],
             [
              0.4444444444444444,
              "#bd3786"
             ],
             [
              0.5555555555555556,
              "#d8576b"
             ],
             [
              0.6666666666666666,
              "#ed7953"
             ],
             [
              0.7777777777777778,
              "#fb9f3a"
             ],
             [
              0.8888888888888888,
              "#fdca26"
             ],
             [
              1,
              "#f0f921"
             ]
            ],
            "type": "heatmapgl"
           }
          ],
          "histogram": [
           {
            "marker": {
             "pattern": {
              "fillmode": "overlay",
              "size": 10,
              "solidity": 0.2
             }
            },
            "type": "histogram"
           }
          ],
          "histogram2d": [
           {
            "colorbar": {
             "outlinewidth": 0,
             "ticks": ""
            },
            "colorscale": [
             [
              0,
              "#0d0887"
             ],
             [
              0.1111111111111111,
              "#46039f"
             ],
             [
              0.2222222222222222,
              "#7201a8"
             ],
             [
              0.3333333333333333,
              "#9c179e"
             ],
             [
              0.4444444444444444,
              "#bd3786"
             ],
             [
              0.5555555555555556,
              "#d8576b"
             ],
             [
              0.6666666666666666,
              "#ed7953"
             ],
             [
              0.7777777777777778,
              "#fb9f3a"
             ],
             [
              0.8888888888888888,
              "#fdca26"
             ],
             [
              1,
              "#f0f921"
             ]
            ],
            "type": "histogram2d"
           }
          ],
          "histogram2dcontour": [
           {
            "colorbar": {
             "outlinewidth": 0,
             "ticks": ""
            },
            "colorscale": [
             [
              0,
              "#0d0887"
             ],
             [
              0.1111111111111111,
              "#46039f"
             ],
             [
              0.2222222222222222,
              "#7201a8"
             ],
             [
              0.3333333333333333,
              "#9c179e"
             ],
             [
              0.4444444444444444,
              "#bd3786"
             ],
             [
              0.5555555555555556,
              "#d8576b"
             ],
             [
              0.6666666666666666,
              "#ed7953"
             ],
             [
              0.7777777777777778,
              "#fb9f3a"
             ],
             [
              0.8888888888888888,
              "#fdca26"
             ],
             [
              1,
              "#f0f921"
             ]
            ],
            "type": "histogram2dcontour"
           }
          ],
          "mesh3d": [
           {
            "colorbar": {
             "outlinewidth": 0,
             "ticks": ""
            },
            "type": "mesh3d"
           }
          ],
          "parcoords": [
           {
            "line": {
             "colorbar": {
              "outlinewidth": 0,
              "ticks": ""
             }
            },
            "type": "parcoords"
           }
          ],
          "pie": [
           {
            "automargin": true,
            "type": "pie"
           }
          ],
          "scatter": [
           {
            "fillpattern": {
             "fillmode": "overlay",
             "size": 10,
             "solidity": 0.2
            },
            "type": "scatter"
           }
          ],
          "scatter3d": [
           {
            "line": {
             "colorbar": {
              "outlinewidth": 0,
              "ticks": ""
             }
            },
            "marker": {
             "colorbar": {
              "outlinewidth": 0,
              "ticks": ""
             }
            },
            "type": "scatter3d"
           }
          ],
          "scattercarpet": [
           {
            "marker": {
             "colorbar": {
              "outlinewidth": 0,
              "ticks": ""
             }
            },
            "type": "scattercarpet"
           }
          ],
          "scattergeo": [
           {
            "marker": {
             "colorbar": {
              "outlinewidth": 0,
              "ticks": ""
             }
            },
            "type": "scattergeo"
           }
          ],
          "scattergl": [
           {
            "marker": {
             "colorbar": {
              "outlinewidth": 0,
              "ticks": ""
             }
            },
            "type": "scattergl"
           }
          ],
          "scattermapbox": [
           {
            "marker": {
             "colorbar": {
              "outlinewidth": 0,
              "ticks": ""
             }
            },
            "type": "scattermapbox"
           }
          ],
          "scatterpolar": [
           {
            "marker": {
             "colorbar": {
              "outlinewidth": 0,
              "ticks": ""
             }
            },
            "type": "scatterpolar"
           }
          ],
          "scatterpolargl": [
           {
            "marker": {
             "colorbar": {
              "outlinewidth": 0,
              "ticks": ""
             }
            },
            "type": "scatterpolargl"
           }
          ],
          "scatterternary": [
           {
            "marker": {
             "colorbar": {
              "outlinewidth": 0,
              "ticks": ""
             }
            },
            "type": "scatterternary"
           }
          ],
          "surface": [
           {
            "colorbar": {
             "outlinewidth": 0,
             "ticks": ""
            },
            "colorscale": [
             [
              0,
              "#0d0887"
             ],
             [
              0.1111111111111111,
              "#46039f"
             ],
             [
              0.2222222222222222,
              "#7201a8"
             ],
             [
              0.3333333333333333,
              "#9c179e"
             ],
             [
              0.4444444444444444,
              "#bd3786"
             ],
             [
              0.5555555555555556,
              "#d8576b"
             ],
             [
              0.6666666666666666,
              "#ed7953"
             ],
             [
              0.7777777777777778,
              "#fb9f3a"
             ],
             [
              0.8888888888888888,
              "#fdca26"
             ],
             [
              1,
              "#f0f921"
             ]
            ],
            "type": "surface"
           }
          ],
          "table": [
           {
            "cells": {
             "fill": {
              "color": "#EBF0F8"
             },
             "line": {
              "color": "white"
             }
            },
            "header": {
             "fill": {
              "color": "#C8D4E3"
             },
             "line": {
              "color": "white"
             }
            },
            "type": "table"
           }
          ]
         },
         "layout": {
          "annotationdefaults": {
           "arrowcolor": "#2a3f5f",
           "arrowhead": 0,
           "arrowwidth": 1
          },
          "autotypenumbers": "strict",
          "coloraxis": {
           "colorbar": {
            "outlinewidth": 0,
            "ticks": ""
           }
          },
          "colorscale": {
           "diverging": [
            [
             0,
             "#8e0152"
            ],
            [
             0.1,
             "#c51b7d"
            ],
            [
             0.2,
             "#de77ae"
            ],
            [
             0.3,
             "#f1b6da"
            ],
            [
             0.4,
             "#fde0ef"
            ],
            [
             0.5,
             "#f7f7f7"
            ],
            [
             0.6,
             "#e6f5d0"
            ],
            [
             0.7,
             "#b8e186"
            ],
            [
             0.8,
             "#7fbc41"
            ],
            [
             0.9,
             "#4d9221"
            ],
            [
             1,
             "#276419"
            ]
           ],
           "sequential": [
            [
             0,
             "#0d0887"
            ],
            [
             0.1111111111111111,
             "#46039f"
            ],
            [
             0.2222222222222222,
             "#7201a8"
            ],
            [
             0.3333333333333333,
             "#9c179e"
            ],
            [
             0.4444444444444444,
             "#bd3786"
            ],
            [
             0.5555555555555556,
             "#d8576b"
            ],
            [
             0.6666666666666666,
             "#ed7953"
            ],
            [
             0.7777777777777778,
             "#fb9f3a"
            ],
            [
             0.8888888888888888,
             "#fdca26"
            ],
            [
             1,
             "#f0f921"
            ]
           ],
           "sequentialminus": [
            [
             0,
             "#0d0887"
            ],
            [
             0.1111111111111111,
             "#46039f"
            ],
            [
             0.2222222222222222,
             "#7201a8"
            ],
            [
             0.3333333333333333,
             "#9c179e"
            ],
            [
             0.4444444444444444,
             "#bd3786"
            ],
            [
             0.5555555555555556,
             "#d8576b"
            ],
            [
             0.6666666666666666,
             "#ed7953"
            ],
            [
             0.7777777777777778,
             "#fb9f3a"
            ],
            [
             0.8888888888888888,
             "#fdca26"
            ],
            [
             1,
             "#f0f921"
            ]
           ]
          },
          "colorway": [
           "#636efa",
           "#EF553B",
           "#00cc96",
           "#ab63fa",
           "#FFA15A",
           "#19d3f3",
           "#FF6692",
           "#B6E880",
           "#FF97FF",
           "#FECB52"
          ],
          "font": {
           "color": "#2a3f5f"
          },
          "geo": {
           "bgcolor": "white",
           "lakecolor": "white",
           "landcolor": "#E5ECF6",
           "showlakes": true,
           "showland": true,
           "subunitcolor": "white"
          },
          "hoverlabel": {
           "align": "left"
          },
          "hovermode": "closest",
          "mapbox": {
           "style": "light"
          },
          "paper_bgcolor": "white",
          "plot_bgcolor": "#E5ECF6",
          "polar": {
           "angularaxis": {
            "gridcolor": "white",
            "linecolor": "white",
            "ticks": ""
           },
           "bgcolor": "#E5ECF6",
           "radialaxis": {
            "gridcolor": "white",
            "linecolor": "white",
            "ticks": ""
           }
          },
          "scene": {
           "xaxis": {
            "backgroundcolor": "#E5ECF6",
            "gridcolor": "white",
            "gridwidth": 2,
            "linecolor": "white",
            "showbackground": true,
            "ticks": "",
            "zerolinecolor": "white"
           },
           "yaxis": {
            "backgroundcolor": "#E5ECF6",
            "gridcolor": "white",
            "gridwidth": 2,
            "linecolor": "white",
            "showbackground": true,
            "ticks": "",
            "zerolinecolor": "white"
           },
           "zaxis": {
            "backgroundcolor": "#E5ECF6",
            "gridcolor": "white",
            "gridwidth": 2,
            "linecolor": "white",
            "showbackground": true,
            "ticks": "",
            "zerolinecolor": "white"
           }
          },
          "shapedefaults": {
           "line": {
            "color": "#2a3f5f"
           }
          },
          "ternary": {
           "aaxis": {
            "gridcolor": "white",
            "linecolor": "white",
            "ticks": ""
           },
           "baxis": {
            "gridcolor": "white",
            "linecolor": "white",
            "ticks": ""
           },
           "bgcolor": "#E5ECF6",
           "caxis": {
            "gridcolor": "white",
            "linecolor": "white",
            "ticks": ""
           }
          },
          "title": {
           "x": 0.05
          },
          "xaxis": {
           "automargin": true,
           "gridcolor": "white",
           "linecolor": "white",
           "ticks": "",
           "title": {
            "standoff": 15
           },
           "zerolinecolor": "white",
           "zerolinewidth": 2
          },
          "yaxis": {
           "automargin": true,
           "gridcolor": "white",
           "linecolor": "white",
           "ticks": "",
           "title": {
            "standoff": 15
           },
           "zerolinecolor": "white",
           "zerolinewidth": 2
          }
         }
        },
        "title": {
         "text": "Ventas por tipo en monterrey"
        },
        "xaxis": {
         "anchor": "y",
         "domain": [
          0,
          1
         ],
         "title": {
          "text": "Estado_Venta"
         }
        },
        "yaxis": {
         "anchor": "x",
         "domain": [
          0,
          1
         ],
         "title": {
          "text": "Método_Pago"
         }
        }
       }
      }
     },
     "metadata": {},
     "output_type": "display_data"
    }
   ],
   "source": [
    "figura3 = pl.bar(df_Inmob_regia, x= 'Estado_Venta', y= 'Método_Pago', color='Tipo_Propiedad', title= 'Ventas por tipo en monterrey')\n",
    "figura3.show()"
   ]
  },
  {
   "cell_type": "code",
   "execution_count": 34,
   "id": "5b842365",
   "metadata": {},
   "outputs": [
    {
     "data": {
      "text/plain": [
       "Vendida       25\n",
       "En proceso    21\n",
       "Cancelada     14\n",
       "Name: Estado_Venta, dtype: int64"
      ]
     },
     "execution_count": 34,
     "metadata": {},
     "output_type": "execute_result"
    }
   ],
   "source": [
    "df_Inmob_regia['Estado_Venta'].value_counts()"
   ]
  },
  {
   "cell_type": "code",
   "execution_count": 37,
   "id": "2509a255",
   "metadata": {},
   "outputs": [
    {
     "name": "stdout",
     "output_type": "stream",
     "text": [
      "En la ciudad de Monterrey, se puede apreciar que el  41.66666666666667  de las ventas se concretan, mientras que el  35.0 esta en proceso y solo un  23.333333333333332 de las ventas es cancelado\n"
     ]
    }
   ],
   "source": [
    "print('En la ciudad de Monterrey, se puede apreciar que el ',(25/60)*100,' de las ventas se concretan, mientras que el ',(21/60)*100,'esta en proceso y solo un ',(14/60)*100, 'de las ventas es cancelado')"
   ]
  },
  {
   "cell_type": "code",
   "execution_count": null,
   "id": "5f2dcada",
   "metadata": {},
   "outputs": [],
   "source": []
  }
 ],
 "metadata": {
  "kernelspec": {
   "display_name": "base",
   "language": "python",
   "name": "python3"
  },
  "language_info": {
   "codemirror_mode": {
    "name": "ipython",
    "version": 3
   },
   "file_extension": ".py",
   "mimetype": "text/x-python",
   "name": "python",
   "nbconvert_exporter": "python",
   "pygments_lexer": "ipython3",
   "version": "3.11.4"
  }
 },
 "nbformat": 4,
 "nbformat_minor": 5
}
